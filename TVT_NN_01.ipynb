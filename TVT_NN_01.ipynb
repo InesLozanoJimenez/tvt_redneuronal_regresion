{
  "nbformat": 4,
  "nbformat_minor": 0,
  "metadata": {
    "accelerator": "GPU",
    "colab": {
      "name": "TVT_NN_01",
      "provenance": [],
      "collapsed_sections": []
    },
    "kernelspec": {
      "display_name": "Python 3",
      "language": "python",
      "name": "python3"
    },
    "language_info": {
      "codemirror_mode": {
        "name": "ipython",
        "version": 3
      },
      "file_extension": ".py",
      "mimetype": "text/x-python",
      "name": "python",
      "nbconvert_exporter": "python",
      "pygments_lexer": "ipython3",
      "version": "3.6.5"
    }
  },
  "cells": [
    {
      "cell_type": "markdown",
      "metadata": {
        "id": "nVlDJWzSJYj4"
      },
      "source": [
        "# 0. Instalación de Keras y Tensorflow\n",
        "\n"
      ]
    },
    {
      "cell_type": "markdown",
      "metadata": {
        "id": "BXQUgxoNvMRD"
      },
      "source": [
        "\n",
        "## Tensorflow\n",
        "Para instalar tensorflow en python, hay que elegir si se va autilizar GPU (aumentará la velocidad de estimación) o no:\n",
        "\n",
        "### GPU\n",
        "\n",
        "```\n",
        "pip install --upgrade tensorflow-gpu\n",
        "```\n",
        "\n",
        "### Sin GPU\n",
        "\n",
        "```\n",
        "pip install --upgrade tensorflow\n",
        "```\n",
        "```\n",
        "Collecting tensorflow\n",
        "  Downloading https://files.pythonhosted.org/packages/05/cd/c171d2e33c0192b04560ce864c26eba83fed888fe5cd9ded661b2702f2ae/tensorflow-1.12.0-cp36-cp36m-win_amd64.whl (45.9MB)\n",
        "    100% |████████████████████████████████| 45.9MB 425kB/s\n",
        "\n",
        "    ----\n",
        "    Successfully installed absl-py-0.7.0 astor-0.7.1 gast-0.2.2 grpcio-1.18.0 h5py-2.9.0 keras-applications-1.0.6 keras-preprocessing-1.0.5 markdown-3.0.1 numpy-1.16.0 protobuf-3.6.1 six-1.12.0 tensorboard-1.12.2 tensorflow-1.12.0 termcolor-1.1.0 werkzeug-0.14.1\n",
        "\n",
        "```"
      ]
    },
    {
      "cell_type": "code",
      "metadata": {
        "id": "Y7TeTRLBJNwd"
      },
      "source": [
        "# pip install --upgrade tensorflow\n",
        "# pip install --upgrade tensorflow-gpu"
      ],
      "execution_count": 1,
      "outputs": []
    },
    {
      "cell_type": "markdown",
      "metadata": {
        "id": "OYDvmZVsLbif"
      },
      "source": [
        "```\n",
        "pip install --upgrade tensorflow\n",
        "Collecting tensorflow\n",
        "  Downloading https://files.pythonhosted.org/packages/05/cd/c171d2e33c0192b04560ce864c26eba83fed888fe5cd9ded661b2702f2ae/tensorflow-1.12.0-cp36-cp36m-win_amd64.whl (45.9MB)\n",
        "    100% |████████████████████████████████| 45.9MB 425kB/s\n",
        "    \n",
        "    ----\n",
        "    Successfully installed absl-py-0.7.0 astor-0.7.1 gast-0.2.2 grpcio-1.18.0 h5py-2.9.0 keras-applications-1.0.6 keras-preprocessing-1.0.5 markdown-3.0.1 numpy-1.16.0 protobuf-3.6.1 six-1.12.0 tensorboard-1.12.2 tensorflow-1.12.0 termcolor-1.1.0 werkzeug-0.14.1\n",
        "```\n",
        "\n"
      ]
    },
    {
      "cell_type": "code",
      "metadata": {
        "id": "aX3kgtgIL8U_"
      },
      "source": [
        "import tensorflow"
      ],
      "execution_count": 2,
      "outputs": []
    },
    {
      "cell_type": "markdown",
      "metadata": {
        "id": "p3ok24FbMQLA"
      },
      "source": [
        "## Keras\n",
        "Actualmente, keras viene distribuido dentro de tensorflow (tensorflor.keras), pero se puede instalar como pun paquete aparte.\n",
        "\n",
        "```\n",
        "pip install keras\n",
        "```\n",
        "\n",
        "\n",
        "```\n",
        "\n",
        "Collecting keras\n",
        "\n",
        "  Downloading https://files.pythonhosted.org/packages/5e/10/aa32dad071ce52b5502266b5c659451cfd6ffcbf14e6c8c4f16c0ff5aaab/Keras-2.2.4-py2.py3-none-any.whl (312kB)\n",
        "    100% |████████████████████████████████| 317kB 1.9MB/s\n",
        "    \n",
        "```\n",
        "\n",
        "\n",
        "Pare verificar la instalación de Keras, imprimir por pantalla el archivo ~/.keras/keras.json\n",
        "\n",
        "\n",
        "\n",
        "```\n",
        "cat ~/.keras/keras.json\n",
        "\n",
        "{\n",
        "    \"floatx\": \"float32\",\n",
        "    \"epsilon\": 1e-07,\n",
        "    \"backend\": \"tensorflow\",\n",
        "    \"image_data_format\": \"channels_last\"\n",
        "}\n",
        "\n",
        "```\n",
        "\n",
        "Verificar los siguientes campos\n",
        "\n",
        "```\n",
        "\"backend\": \"tensorflow\"\n",
        " \"image_data_format\": \"channels_last\"\n",
        " ```\n"
      ]
    },
    {
      "cell_type": "code",
      "metadata": {
        "id": "00OyA7cqNERD",
        "colab": {
          "base_uri": "https://localhost:8080/",
          "height": 35
        },
        "outputId": "7d826c8f-63cb-496a-e69d-e5619048e6f9"
      },
      "source": [
        "import tensorflow.keras as keras\n",
        "keras.__version__"
      ],
      "execution_count": 3,
      "outputs": [
        {
          "output_type": "execute_result",
          "data": {
            "application/vnd.google.colaboratory.intrinsic+json": {
              "type": "string"
            },
            "text/plain": [
              "'2.7.0'"
            ]
          },
          "metadata": {},
          "execution_count": 3
        }
      ]
    },
    {
      "cell_type": "markdown",
      "metadata": {
        "id": "Zp9lN0nZNyrk"
      },
      "source": [
        "# 1. Regresión Lineal\n",
        "La relacion entre la variable dependiente $y$ y la variable independiente $X_1$ depende linealmente sólo del parámetro $\\omega_1$ (la pendiente de la recta) y empieza en $cte.$\n",
        "\n",
        "$y=\\omega_1 · X_1 + cte.$"
      ]
    },
    {
      "cell_type": "code",
      "metadata": {
        "id": "RSBYBVSZ0eq2",
        "colab": {
          "base_uri": "https://localhost:8080/",
          "height": 545
        },
        "outputId": "bb9472ee-a8e9-4b1e-9d92-950fc274fd4d"
      },
      "source": [
        "import numpy as np\n",
        "import matplotlib.pyplot as plt \n",
        "\n",
        "# Los valores reales de la regresión\n",
        "omega = 4\n",
        "cte = 2\n",
        "\n",
        "# Los valores de X\n",
        "x = np.linspace(1,2,200)\n",
        "\n",
        "#Calculamos los valores de y\n",
        "y = x*omega  + cte\n",
        "\n",
        "#Imprimimos\n",
        "plt.plot(x , y, 'k.')\n",
        "plt.title(f\"Regresión fácil: y = {omega}*x + {cte}\")\n",
        "plt.show()\n",
        "\n",
        "\n",
        "# Lo ponemos un poco más difícil, movemos un poco los valores\n",
        "ruido = np.random.randn(*x.shape) * 0.3\n",
        "y = x*omega  + cte + ruido\n",
        "\n",
        "#Imprimimos de nuevo\n",
        "plt.plot(x , y, 'k.')\n",
        "plt.title(f\"Regresión fácil con ruido: y = {omega}*x + {cte} + ruido\")\n",
        "plt.show()"
      ],
      "execution_count": 4,
      "outputs": [
        {
          "output_type": "display_data",
          "data": {
            "image/png": "[encoded data removed]",
            "text/plain": [
              "<Figure size 432x288 with 1 Axes>"
            ]
          },
          "metadata": {
            "needs_background": "light"
          }
        },
        {
          "output_type": "display_data",
          "data": {
            "image/png": "[encoded data removed]",
            "text/plain": [
              "<Figure size 432x288 with 1 Axes>"
            ]
          },
          "metadata": {
            "needs_background": "light"
          }
        }
      ]
    },
    {
      "cell_type": "markdown",
      "metadata": {
        "id": "rOly2RTf2R3g"
      },
      "source": [
        "## Red Neuronal estimando una regresión lineal\n",
        "\n",
        "\n",
        "$$X_1 ---->(w_1)_{neurona}---->y\\\\\n",
        "/_{bias}$$\n",
        "\n",
        "\n",
        "\n",
        "\n",
        "#### Queremos estimar:\n",
        "\n",
        "\n",
        "* **El parámetro $\\omega$**: Nuestra red neuronal sólo necesita una neurona, cuya entrada sean las $x_1$ y la salida vaya en el rango de los reales\n",
        "* **La $cte.$**: Se estimará un parámetro bias (lo veremos maś adelante en el curso)\n",
        "\n"
      ]
    },
    {
      "cell_type": "code",
      "metadata": {
        "id": "K0hfetdd4VgJ",
        "colab": {
          "base_uri": "https://localhost:8080/"
        },
        "outputId": "7f2825b6-cba3-4aac-d7c6-ec675a2448a1"
      },
      "source": [
        "import tensorflow.keras as keras\n",
        "from tensorflow.keras.models import Sequential\n",
        "from tensorflow.keras.layers import Dense\n",
        "\n",
        " \n",
        "# Creamos la red neuronal\n",
        "model = Sequential()\n",
        "\n",
        "# Añadimos la Neurona, que está en una capa densa, con sólo una entrada (el \n",
        "# parámetro) y la activación lineal devuelve el rango de reales\n",
        "model.add(Dense(1, input_dim=1, use_bias=True, activation='linear'))\n",
        "\n",
        "print(model.summary())\n",
        "\n"
      ],
      "execution_count": 5,
      "outputs": [
        {
          "output_type": "stream",
          "name": "stdout",
          "text": [
            "Model: \"sequential\"\n",
            "_________________________________________________________________\n",
            " Layer (type)                Output Shape              Param #   \n",
            "=================================================================\n",
            " dense (Dense)               (None, 1)                 2         \n",
            "                                                                 \n",
            "=================================================================\n",
            "Total params: 2\n",
            "Trainable params: 2\n",
            "Non-trainable params: 0\n",
            "_________________________________________________________________\n",
            "None\n"
          ]
        }
      ]
    },
    {
      "cell_type": "code",
      "metadata": {
        "id": "tis2kEiLAn6F",
        "colab": {
          "base_uri": "https://localhost:8080/"
        },
        "outputId": "f5200f3b-3a1a-4449-9980-1b9f678aabbd"
      },
      "source": [
        "#La red ha inicializado los parámetros\n",
        "weights = model.layers[0].get_weights()\n",
        "print(weights)\n",
        "\n",
        "w_init = weights[0][0][0]\n",
        "b_init = weights[1][0]\n",
        "print('\\nModelo de regresio lineal inicializado con w: %.2f, b: %.2f' % (w_init, b_init))\n"
      ],
      "execution_count": 6,
      "outputs": [
        {
          "output_type": "stream",
          "name": "stdout",
          "text": [
            "[array([[0.8205098]], dtype=float32), array([0.], dtype=float32)]\n",
            "\n",
            "Modelo de regresio lineal inicializado con w: 0.82, b: 0.00\n"
          ]
        }
      ]
    },
    {
      "cell_type": "markdown",
      "metadata": {
        "id": "MWQY5e9OBi92"
      },
      "source": [
        "## Entrenamiento\n",
        "### Optimizador\n",
        "\n",
        "Para estimar los parámetros utilizaremos:\n",
        "* **Un optimizador**:  Algoritmo para encontrar los pesos en función del error a minimizar\n",
        "* **Un Error**: Cómo mediremos el error\n",
        "\n",
        "En nuestro ejemplo, utilizaremos el método del gradiente como optimizador y el error cuadrático medio como error.\n"
      ]
    },
    {
      "cell_type": "code",
      "metadata": {
        "id": "WkvVt_EaC4Tf"
      },
      "source": [
        "# Definimos el optimizador y la métrica del error\n",
        "# sgd: Stochastic gradient descent\n",
        " \n",
        "model.compile(optimizer='sgd', loss='mean_squared_error')"
      ],
      "execution_count": 7,
      "outputs": []
    },
    {
      "cell_type": "markdown",
      "metadata": {
        "id": "zLY_XlidDIoI"
      },
      "source": [
        "### Entrenamiento\n",
        "\n",
        "Para el entrenamiento, hay que darle al optimizador:\n",
        "* **Los datos originales**: x e y.\n",
        "* **batch_size**: Número de registros para cada paso del gradiente\n",
        "* **epochs**: el número de vueltas sobre todo el dataset"
      ]
    },
    {
      "cell_type": "code",
      "metadata": {
        "id": "L8yaTwhtDe2L",
        "colab": {
          "base_uri": "https://localhost:8080/"
        },
        "outputId": "ea3eda63-611d-4eb4-bf6a-d10c446369bc"
      },
      "source": [
        "model.fit(x,y, batch_size=1, epochs=30)"
      ],
      "execution_count": 8,
      "outputs": [
        {
          "output_type": "stream",
          "name": "stdout",
          "text": [
            "Epoch 1/30\n",
            "200/200 [==============================] - 2s 2ms/step - loss: 1.9168\n",
            "Epoch 2/30\n",
            "200/200 [==============================] - 0s 2ms/step - loss: 0.0890\n",
            "Epoch 3/30\n",
            "200/200 [==============================] - 0s 2ms/step - loss: 0.0913\n",
            "Epoch 4/30\n",
            "200/200 [==============================] - 0s 2ms/step - loss: 0.0903\n",
            "Epoch 5/30\n",
            "200/200 [==============================] - 0s 2ms/step - loss: 0.0906\n",
            "Epoch 6/30\n",
            "200/200 [==============================] - 0s 2ms/step - loss: 0.0910\n",
            "Epoch 7/30\n",
            "200/200 [==============================] - 0s 2ms/step - loss: 0.0915\n",
            "Epoch 8/30\n",
            "200/200 [==============================] - 0s 2ms/step - loss: 0.0899\n",
            "Epoch 9/30\n",
            "200/200 [==============================] - 0s 2ms/step - loss: 0.0901\n",
            "Epoch 10/30\n",
            "200/200 [==============================] - 0s 2ms/step - loss: 0.0919\n",
            "Epoch 11/30\n",
            "200/200 [==============================] - 0s 2ms/step - loss: 0.0913\n",
            "Epoch 12/30\n",
            "200/200 [==============================] - 0s 2ms/step - loss: 0.0903\n",
            "Epoch 13/30\n",
            "200/200 [==============================] - 0s 2ms/step - loss: 0.0877\n",
            "Epoch 14/30\n",
            "200/200 [==============================] - 0s 2ms/step - loss: 0.0914\n",
            "Epoch 15/30\n",
            "200/200 [==============================] - 0s 2ms/step - loss: 0.0894\n",
            "Epoch 16/30\n",
            "200/200 [==============================] - 0s 2ms/step - loss: 0.0907\n",
            "Epoch 17/30\n",
            "200/200 [==============================] - 0s 2ms/step - loss: 0.0890\n",
            "Epoch 18/30\n",
            "200/200 [==============================] - 0s 2ms/step - loss: 0.0918\n",
            "Epoch 19/30\n",
            "200/200 [==============================] - 0s 2ms/step - loss: 0.0895\n",
            "Epoch 20/30\n",
            "200/200 [==============================] - 0s 2ms/step - loss: 0.0898\n",
            "Epoch 21/30\n",
            "200/200 [==============================] - 0s 2ms/step - loss: 0.0902\n",
            "Epoch 22/30\n",
            "200/200 [==============================] - 0s 2ms/step - loss: 0.0889\n",
            "Epoch 23/30\n",
            "200/200 [==============================] - 0s 2ms/step - loss: 0.0890\n",
            "Epoch 24/30\n",
            "200/200 [==============================] - 0s 2ms/step - loss: 0.0881\n",
            "Epoch 25/30\n",
            "200/200 [==============================] - 0s 2ms/step - loss: 0.0894\n",
            "Epoch 26/30\n",
            "200/200 [==============================] - 0s 2ms/step - loss: 0.0895\n",
            "Epoch 27/30\n",
            "200/200 [==============================] - 0s 2ms/step - loss: 0.0916\n",
            "Epoch 28/30\n",
            "200/200 [==============================] - 0s 2ms/step - loss: 0.0902\n",
            "Epoch 29/30\n",
            "200/200 [==============================] - 0s 2ms/step - loss: 0.0907\n",
            "Epoch 30/30\n",
            "200/200 [==============================] - 0s 2ms/step - loss: 0.0900\n"
          ]
        },
        {
          "output_type": "execute_result",
          "data": {
            "text/plain": [
              "<keras.callbacks.History at 0x7fcb60667b50>"
            ]
          },
          "metadata": {},
          "execution_count": 8
        }
      ]
    },
    {
      "cell_type": "code",
      "metadata": {
        "id": "1CioEraENyIZ",
        "colab": {
          "base_uri": "https://localhost:8080/",
          "height": 381
        },
        "outputId": "d0ce5638-bb8d-4235-9a5f-b0c2c2dc899a"
      },
      "source": [
        "#Veamos el resultado\n",
        "\n",
        "weights = model.layers[0].get_weights()\n",
        "w_final = weights[0][0][0]\n",
        "b_final = weights[1][0]\n",
        "print(\"\"\"\\nModelo de regresion lineal estimado con:\n",
        "w: %.2f (Objetivo: %.2f)\n",
        "b: %.2f (Objetivo: %.2f)\"\"\" % (w_final,omega, b_final, cte))\n",
        "\n",
        "# Veamos la predicción\n",
        "predict = model.predict(x)\n",
        "\n",
        "plt.plot(x, predict, 'b', x , y, 'k.')\n",
        "plt.title(f\"Regresión fácil con ruido: \\nEstimado: y = {w_final:.2f}*x + {b_final:.2f}\\nReal: y = {omega}*x + {cte} + ruido\")\n",
        "plt.show()"
      ],
      "execution_count": 9,
      "outputs": [
        {
          "output_type": "stream",
          "name": "stdout",
          "text": [
            "\n",
            "Modelo de regresion lineal estimado con:\n",
            "w: 4.09 (Objetivo: 4.00)\n",
            "b: 1.93 (Objetivo: 2.00)\n"
          ]
        },
        {
          "output_type": "display_data",
          "data": {
            "image/png": "[encoded data removed]",
            "text/plain": [
              "<Figure size 432x288 with 1 Axes>"
            ]
          },
          "metadata": {
            "needs_background": "light"
          }
        }
      ]
    },
    {
      "cell_type": "markdown",
      "metadata": {
        "id": "Cj4mAfO-ID3L"
      },
      "source": [
        "## EJERCICIO\n",
        "Estimación con dos partametros: \n",
        "$y=\\omega_1 · X_1 + \\omega_2 · X_2 + cte.$\n",
        "\n",
        "\n",
        "\n",
        "---\n",
        "\n",
        "\n",
        "\n",
        "---\n",
        "\n",
        "\n",
        "\n",
        "\n",
        "\n",
        "\n",
        "\n",
        "\n"
      ]
    },
    {
      "cell_type": "markdown",
      "metadata": {
        "id": "Q9rTkn9forbQ"
      },
      "source": [
        "# Red Neuronal estimando una regresión logística\n",
        "![iris](https://github.com/PhDCarlosPerales/redes_neuronales/blob/master/iris.png?raw=1)\n",
        "![plotiris](https://github.com/PhDCarlosPerales/redes_neuronales/blob/master/plot_iris.png?raw=1)\n",
        "\n",
        "Desde: https://www.datacamp.com/community/tutorials/machine-learning-in-r"
      ]
    },
    {
      "cell_type": "code",
      "metadata": {
        "id": "Ilkp-CfgpQL-"
      },
      "source": [
        "from sklearn import datasets\n",
        "from sklearn.model_selection import train_test_split\n",
        "iris_X, iris_y = datasets.load_iris(return_X_y=True)\n",
        "\n",
        "X_train, X_test, y_train, y_test = train_test_split(iris_X, iris_y, test_size=0.33, random_state=42)\n",
        "\n"
      ],
      "execution_count": 10,
      "outputs": []
    },
    {
      "cell_type": "code",
      "metadata": {
        "colab": {
          "base_uri": "https://localhost:8080/"
        },
        "id": "dJEQpQOy50Qh",
        "outputId": "e42698b6-21cc-492a-ee3e-846ba1f51cf7"
      },
      "source": [
        "import numpy as np\n",
        "y_train=np.where(y_train==1, 1, 0)\n",
        "y_test=np.where(y_test==1, 1, 0)\n",
        "y_train"
      ],
      "execution_count": 11,
      "outputs": [
        {
          "output_type": "execute_result",
          "data": {
            "text/plain": [
              "array([1, 0, 1, 0, 0, 1, 0, 0, 0, 1, 0, 0, 0, 0, 1, 0, 1, 0, 0, 1, 0, 0,\n",
              "       0, 0, 1, 1, 0, 1, 0, 1, 0, 0, 0, 1, 1, 0, 0, 0, 0, 1, 1, 0, 1, 0,\n",
              "       0, 1, 0, 0, 0, 0, 0, 0, 0, 1, 0, 0, 0, 0, 0, 1, 1, 0, 1, 0, 0, 0,\n",
              "       1, 0, 1, 1, 1, 0, 1, 1, 0, 1, 0, 0, 0, 1, 0, 0, 0, 0, 0, 1, 0, 0,\n",
              "       1, 0, 1, 1, 0, 0, 0, 1, 0, 0, 1, 0])"
            ]
          },
          "metadata": {},
          "execution_count": 11
        }
      ]
    },
    {
      "cell_type": "code",
      "metadata": {
        "colab": {
          "base_uri": "https://localhost:8080/"
        },
        "id": "gKOqgRnS5zfY",
        "outputId": "8015f62a-4416-4332-ebfc-807b54ec3177"
      },
      "source": [
        "from tensorflow.keras.models import Sequential\n",
        "from tensorflow.keras.layers import Dense\n",
        "model = Sequential()\n",
        "model.add(Dense(10, input_dim=4, activation='relu'))\n",
        "model.add(Dense(1, activation='sigmoid'))\n",
        "model.compile(loss='binary_crossentropy', optimizer='RMSprop', metrics=['accuracy'])\n",
        "model.fit(X_train, y_train,batch_size=100,epochs=500)"
      ],
      "execution_count": 12,
      "outputs": [
        {
          "output_type": "stream",
          "name": "stdout",
          "text": [
            "Epoch 1/500\n",
            "1/1 [==============================] - 1s 610ms/step - loss: 3.1390 - accuracy: 0.3500\n",
            "Epoch 2/500\n",
            "1/1 [==============================] - 0s 8ms/step - loss: 3.0396 - accuracy: 0.3500\n",
            "Epoch 3/500\n",
            "1/1 [==============================] - 0s 11ms/step - loss: 2.9681 - accuracy: 0.3500\n",
            "Epoch 4/500\n",
            "1/1 [==============================] - 0s 7ms/step - loss: 2.9086 - accuracy: 0.3500\n",
            "Epoch 5/500\n",
            "1/1 [==============================] - 0s 10ms/step - loss: 2.8560 - accuracy: 0.3500\n",
            "Epoch 6/500\n",
            "1/1 [==============================] - 0s 11ms/step - loss: 2.8081 - accuracy: 0.3500\n",
            "Epoch 7/500\n",
            "1/1 [==============================] - 0s 13ms/step - loss: 2.7635 - accuracy: 0.3500\n",
            "Epoch 8/500\n",
            "1/1 [==============================] - 0s 13ms/step - loss: 2.7214 - accuracy: 0.3500\n",
            "Epoch 9/500\n",
            "1/1 [==============================] - 0s 10ms/step - loss: 2.6813 - accuracy: 0.3500\n",
            "Epoch 10/500\n",
            "1/1 [==============================] - 0s 6ms/step - loss: 2.6427 - accuracy: 0.3500\n",
            "Epoch 11/500\n",
            "1/1 [==============================] - 0s 10ms/step - loss: 2.6055 - accuracy: 0.3500\n",
            "Epoch 12/500\n",
            "1/1 [==============================] - 0s 8ms/step - loss: 2.5694 - accuracy: 0.3500\n",
            "Epoch 13/500\n",
            "1/1 [==============================] - 0s 17ms/step - loss: 2.5343 - accuracy: 0.3500\n",
            "Epoch 14/500\n",
            "1/1 [==============================] - 0s 8ms/step - loss: 2.4999 - accuracy: 0.3500\n",
            "Epoch 15/500\n",
            "1/1 [==============================] - 0s 7ms/step - loss: 2.4663 - accuracy: 0.3500\n",
            "Epoch 16/500\n",
            "1/1 [==============================] - 0s 14ms/step - loss: 2.4333 - accuracy: 0.3500\n",
            "Epoch 17/500\n",
            "1/1 [==============================] - 0s 8ms/step - loss: 2.4008 - accuracy: 0.3500\n",
            "Epoch 18/500\n",
            "1/1 [==============================] - 0s 13ms/step - loss: 2.3689 - accuracy: 0.3500\n",
            "Epoch 19/500\n",
            "1/1 [==============================] - 0s 14ms/step - loss: 2.3374 - accuracy: 0.3500\n",
            "Epoch 20/500\n",
            "1/1 [==============================] - 0s 21ms/step - loss: 2.3063 - accuracy: 0.3500\n",
            "Epoch 21/500\n",
            "1/1 [==============================] - 0s 9ms/step - loss: 2.2756 - accuracy: 0.3500\n",
            "Epoch 22/500\n",
            "1/1 [==============================] - 0s 14ms/step - loss: 2.2452 - accuracy: 0.3500\n",
            "Epoch 23/500\n",
            "1/1 [==============================] - 0s 20ms/step - loss: 2.2152 - accuracy: 0.3500\n",
            "Epoch 24/500\n",
            "1/1 [==============================] - 0s 9ms/step - loss: 2.1855 - accuracy: 0.3500\n",
            "Epoch 25/500\n",
            "1/1 [==============================] - 0s 16ms/step - loss: 2.1561 - accuracy: 0.3500\n",
            "Epoch 26/500\n",
            "1/1 [==============================] - 0s 11ms/step - loss: 2.1269 - accuracy: 0.3500\n",
            "Epoch 27/500\n",
            "1/1 [==============================] - 0s 11ms/step - loss: 2.0981 - accuracy: 0.3500\n",
            "Epoch 28/500\n",
            "1/1 [==============================] - 0s 9ms/step - loss: 2.0694 - accuracy: 0.3500\n",
            "Epoch 29/500\n",
            "1/1 [==============================] - 0s 7ms/step - loss: 2.0411 - accuracy: 0.3500\n",
            "Epoch 30/500\n",
            "1/1 [==============================] - 0s 25ms/step - loss: 2.0129 - accuracy: 0.3500\n",
            "Epoch 31/500\n",
            "1/1 [==============================] - 0s 10ms/step - loss: 1.9850 - accuracy: 0.3500\n",
            "Epoch 32/500\n",
            "1/1 [==============================] - 0s 13ms/step - loss: 1.9574 - accuracy: 0.3500\n",
            "Epoch 33/500\n",
            "1/1 [==============================] - 0s 13ms/step - loss: 1.9299 - accuracy: 0.3500\n",
            "Epoch 34/500\n",
            "1/1 [==============================] - 0s 16ms/step - loss: 1.9027 - accuracy: 0.3500\n",
            "Epoch 35/500\n",
            "1/1 [==============================] - 0s 11ms/step - loss: 1.8758 - accuracy: 0.3500\n",
            "Epoch 36/500\n",
            "1/1 [==============================] - 0s 14ms/step - loss: 1.8490 - accuracy: 0.3500\n",
            "Epoch 37/500\n",
            "1/1 [==============================] - 0s 11ms/step - loss: 1.8225 - accuracy: 0.3500\n",
            "Epoch 38/500\n",
            "1/1 [==============================] - 0s 17ms/step - loss: 1.7962 - accuracy: 0.3500\n",
            "Epoch 39/500\n",
            "1/1 [==============================] - 0s 9ms/step - loss: 1.7701 - accuracy: 0.3500\n",
            "Epoch 40/500\n",
            "1/1 [==============================] - 0s 11ms/step - loss: 1.7443 - accuracy: 0.3500\n",
            "Epoch 41/500\n",
            "1/1 [==============================] - 0s 11ms/step - loss: 1.7187 - accuracy: 0.3500\n",
            "Epoch 42/500\n",
            "1/1 [==============================] - 0s 12ms/step - loss: 1.6933 - accuracy: 0.3500\n",
            "Epoch 43/500\n",
            "1/1 [==============================] - 0s 14ms/step - loss: 1.6682 - accuracy: 0.3500\n",
            "Epoch 44/500\n",
            "1/1 [==============================] - 0s 6ms/step - loss: 1.6433 - accuracy: 0.3500\n",
            "Epoch 45/500\n",
            "1/1 [==============================] - 0s 11ms/step - loss: 1.6187 - accuracy: 0.3500\n",
            "Epoch 46/500\n",
            "1/1 [==============================] - 0s 12ms/step - loss: 1.5944 - accuracy: 0.3500\n",
            "Epoch 47/500\n",
            "1/1 [==============================] - 0s 11ms/step - loss: 1.5702 - accuracy: 0.3500\n",
            "Epoch 48/500\n",
            "1/1 [==============================] - 0s 9ms/step - loss: 1.5464 - accuracy: 0.3500\n",
            "Epoch 49/500\n",
            "1/1 [==============================] - 0s 9ms/step - loss: 1.5228 - accuracy: 0.3500\n",
            "Epoch 50/500\n",
            "1/1 [==============================] - 0s 6ms/step - loss: 1.4995 - accuracy: 0.3500\n",
            "Epoch 51/500\n",
            "1/1 [==============================] - 0s 11ms/step - loss: 1.4765 - accuracy: 0.3500\n",
            "Epoch 52/500\n",
            "1/1 [==============================] - 0s 12ms/step - loss: 1.4538 - accuracy: 0.3500\n",
            "Epoch 53/500\n",
            "1/1 [==============================] - 0s 10ms/step - loss: 1.4313 - accuracy: 0.3500\n",
            "Epoch 54/500\n",
            "1/1 [==============================] - 0s 8ms/step - loss: 1.4092 - accuracy: 0.3500\n",
            "Epoch 55/500\n",
            "1/1 [==============================] - 0s 10ms/step - loss: 1.3874 - accuracy: 0.3500\n",
            "Epoch 56/500\n",
            "1/1 [==============================] - 0s 8ms/step - loss: 1.3658 - accuracy: 0.3500\n",
            "Epoch 57/500\n",
            "1/1 [==============================] - 0s 10ms/step - loss: 1.3446 - accuracy: 0.3500\n",
            "Epoch 58/500\n",
            "1/1 [==============================] - 0s 14ms/step - loss: 1.3237 - accuracy: 0.3500\n",
            "Epoch 59/500\n",
            "1/1 [==============================] - 0s 11ms/step - loss: 1.3031 - accuracy: 0.3500\n",
            "Epoch 60/500\n",
            "1/1 [==============================] - 0s 13ms/step - loss: 1.2829 - accuracy: 0.3500\n",
            "Epoch 61/500\n",
            "1/1 [==============================] - 0s 14ms/step - loss: 1.2630 - accuracy: 0.3500\n",
            "Epoch 62/500\n",
            "1/1 [==============================] - 0s 13ms/step - loss: 1.2434 - accuracy: 0.3500\n",
            "Epoch 63/500\n",
            "1/1 [==============================] - 0s 10ms/step - loss: 1.2242 - accuracy: 0.3500\n",
            "Epoch 64/500\n",
            "1/1 [==============================] - 0s 11ms/step - loss: 1.2054 - accuracy: 0.3500\n",
            "Epoch 65/500\n",
            "1/1 [==============================] - 0s 16ms/step - loss: 1.1869 - accuracy: 0.3500\n",
            "Epoch 66/500\n",
            "1/1 [==============================] - 0s 20ms/step - loss: 1.1688 - accuracy: 0.3500\n",
            "Epoch 67/500\n",
            "1/1 [==============================] - 0s 12ms/step - loss: 1.1510 - accuracy: 0.3500\n",
            "Epoch 68/500\n",
            "1/1 [==============================] - 0s 14ms/step - loss: 1.1336 - accuracy: 0.3500\n",
            "Epoch 69/500\n",
            "1/1 [==============================] - 0s 9ms/step - loss: 1.1166 - accuracy: 0.3500\n",
            "Epoch 70/500\n",
            "1/1 [==============================] - 0s 11ms/step - loss: 1.1000 - accuracy: 0.3500\n",
            "Epoch 71/500\n",
            "1/1 [==============================] - 0s 17ms/step - loss: 1.0837 - accuracy: 0.3500\n",
            "Epoch 72/500\n",
            "1/1 [==============================] - 0s 10ms/step - loss: 1.0678 - accuracy: 0.3500\n",
            "Epoch 73/500\n",
            "1/1 [==============================] - 0s 8ms/step - loss: 1.0524 - accuracy: 0.3500\n",
            "Epoch 74/500\n",
            "1/1 [==============================] - 0s 9ms/step - loss: 1.0373 - accuracy: 0.3500\n",
            "Epoch 75/500\n",
            "1/1 [==============================] - 0s 8ms/step - loss: 1.0226 - accuracy: 0.3500\n",
            "Epoch 76/500\n",
            "1/1 [==============================] - 0s 6ms/step - loss: 1.0083 - accuracy: 0.3500\n",
            "Epoch 77/500\n",
            "1/1 [==============================] - 0s 7ms/step - loss: 0.9944 - accuracy: 0.3500\n",
            "Epoch 78/500\n",
            "1/1 [==============================] - 0s 6ms/step - loss: 0.9809 - accuracy: 0.3500\n",
            "Epoch 79/500\n",
            "1/1 [==============================] - 0s 7ms/step - loss: 0.9678 - accuracy: 0.3500\n",
            "Epoch 80/500\n",
            "1/1 [==============================] - 0s 7ms/step - loss: 0.9551 - accuracy: 0.3500\n",
            "Epoch 81/500\n",
            "1/1 [==============================] - 0s 8ms/step - loss: 0.9428 - accuracy: 0.3500\n",
            "Epoch 82/500\n",
            "1/1 [==============================] - 0s 8ms/step - loss: 0.9309 - accuracy: 0.3500\n",
            "Epoch 83/500\n",
            "1/1 [==============================] - 0s 10ms/step - loss: 0.9194 - accuracy: 0.3500\n",
            "Epoch 84/500\n",
            "1/1 [==============================] - 0s 11ms/step - loss: 0.9082 - accuracy: 0.3500\n",
            "Epoch 85/500\n",
            "1/1 [==============================] - 0s 11ms/step - loss: 0.8975 - accuracy: 0.3600\n",
            "Epoch 86/500\n",
            "1/1 [==============================] - 0s 12ms/step - loss: 0.8872 - accuracy: 0.3600\n",
            "Epoch 87/500\n",
            "1/1 [==============================] - 0s 10ms/step - loss: 0.8772 - accuracy: 0.3600\n",
            "Epoch 88/500\n",
            "1/1 [==============================] - 0s 10ms/step - loss: 0.8676 - accuracy: 0.3600\n",
            "Epoch 89/500\n",
            "1/1 [==============================] - 0s 10ms/step - loss: 0.8584 - accuracy: 0.3600\n",
            "Epoch 90/500\n",
            "1/1 [==============================] - 0s 10ms/step - loss: 0.8496 - accuracy: 0.3600\n",
            "Epoch 91/500\n",
            "1/1 [==============================] - 0s 8ms/step - loss: 0.8412 - accuracy: 0.3600\n",
            "Epoch 92/500\n",
            "1/1 [==============================] - 0s 10ms/step - loss: 0.8332 - accuracy: 0.3700\n",
            "Epoch 93/500\n",
            "1/1 [==============================] - 0s 9ms/step - loss: 0.8254 - accuracy: 0.3800\n",
            "Epoch 94/500\n",
            "1/1 [==============================] - 0s 10ms/step - loss: 0.8181 - accuracy: 0.3800\n",
            "Epoch 95/500\n",
            "1/1 [==============================] - 0s 11ms/step - loss: 0.8110 - accuracy: 0.4200\n",
            "Epoch 96/500\n",
            "1/1 [==============================] - 0s 11ms/step - loss: 0.8043 - accuracy: 0.4200\n",
            "Epoch 97/500\n",
            "1/1 [==============================] - 0s 10ms/step - loss: 0.7980 - accuracy: 0.4400\n",
            "Epoch 98/500\n",
            "1/1 [==============================] - 0s 11ms/step - loss: 0.7919 - accuracy: 0.4100\n",
            "Epoch 99/500\n",
            "1/1 [==============================] - 0s 8ms/step - loss: 0.7861 - accuracy: 0.3900\n",
            "Epoch 100/500\n",
            "1/1 [==============================] - 0s 8ms/step - loss: 0.7806 - accuracy: 0.4100\n",
            "Epoch 101/500\n",
            "1/1 [==============================] - 0s 10ms/step - loss: 0.7754 - accuracy: 0.3800\n",
            "Epoch 102/500\n",
            "1/1 [==============================] - 0s 8ms/step - loss: 0.7705 - accuracy: 0.3200\n",
            "Epoch 103/500\n",
            "1/1 [==============================] - 0s 9ms/step - loss: 0.7660 - accuracy: 0.3000\n",
            "Epoch 104/500\n",
            "1/1 [==============================] - 0s 10ms/step - loss: 0.7616 - accuracy: 0.3300\n",
            "Epoch 105/500\n",
            "1/1 [==============================] - 0s 10ms/step - loss: 0.7575 - accuracy: 0.3300\n",
            "Epoch 106/500\n",
            "1/1 [==============================] - 0s 10ms/step - loss: 0.7537 - accuracy: 0.3300\n",
            "Epoch 107/500\n",
            "1/1 [==============================] - 0s 12ms/step - loss: 0.7502 - accuracy: 0.3500\n",
            "Epoch 108/500\n",
            "1/1 [==============================] - 0s 13ms/step - loss: 0.7469 - accuracy: 0.3500\n",
            "Epoch 109/500\n",
            "1/1 [==============================] - 0s 17ms/step - loss: 0.7436 - accuracy: 0.3500\n",
            "Epoch 110/500\n",
            "1/1 [==============================] - 0s 15ms/step - loss: 0.7406 - accuracy: 0.3500\n",
            "Epoch 111/500\n",
            "1/1 [==============================] - 0s 11ms/step - loss: 0.7379 - accuracy: 0.3500\n",
            "Epoch 112/500\n",
            "1/1 [==============================] - 0s 11ms/step - loss: 0.7353 - accuracy: 0.3500\n",
            "Epoch 113/500\n",
            "1/1 [==============================] - 0s 10ms/step - loss: 0.7329 - accuracy: 0.3500\n",
            "Epoch 114/500\n",
            "1/1 [==============================] - 0s 9ms/step - loss: 0.7307 - accuracy: 0.3500\n",
            "Epoch 115/500\n",
            "1/1 [==============================] - 0s 9ms/step - loss: 0.7286 - accuracy: 0.3500\n",
            "Epoch 116/500\n",
            "1/1 [==============================] - 0s 13ms/step - loss: 0.7266 - accuracy: 0.3500\n",
            "Epoch 117/500\n",
            "1/1 [==============================] - 0s 17ms/step - loss: 0.7248 - accuracy: 0.3500\n",
            "Epoch 118/500\n",
            "1/1 [==============================] - 0s 10ms/step - loss: 0.7231 - accuracy: 0.3500\n",
            "Epoch 119/500\n",
            "1/1 [==============================] - 0s 9ms/step - loss: 0.7215 - accuracy: 0.3500\n",
            "Epoch 120/500\n",
            "1/1 [==============================] - 0s 10ms/step - loss: 0.7199 - accuracy: 0.3500\n",
            "Epoch 121/500\n",
            "1/1 [==============================] - 0s 10ms/step - loss: 0.7183 - accuracy: 0.3700\n",
            "Epoch 122/500\n",
            "1/1 [==============================] - 0s 10ms/step - loss: 0.7166 - accuracy: 0.3800\n",
            "Epoch 123/500\n",
            "1/1 [==============================] - 0s 11ms/step - loss: 0.7150 - accuracy: 0.3900\n",
            "Epoch 124/500\n",
            "1/1 [==============================] - 0s 11ms/step - loss: 0.7136 - accuracy: 0.4200\n",
            "Epoch 125/500\n",
            "1/1 [==============================] - 0s 11ms/step - loss: 0.7122 - accuracy: 0.4500\n",
            "Epoch 126/500\n",
            "1/1 [==============================] - 0s 11ms/step - loss: 0.7109 - accuracy: 0.4700\n",
            "Epoch 127/500\n",
            "1/1 [==============================] - 0s 11ms/step - loss: 0.7097 - accuracy: 0.4900\n",
            "Epoch 128/500\n",
            "1/1 [==============================] - 0s 10ms/step - loss: 0.7085 - accuracy: 0.4900\n",
            "Epoch 129/500\n",
            "1/1 [==============================] - 0s 12ms/step - loss: 0.7074 - accuracy: 0.5300\n",
            "Epoch 130/500\n",
            "1/1 [==============================] - 0s 9ms/step - loss: 0.7064 - accuracy: 0.5400\n",
            "Epoch 131/500\n",
            "1/1 [==============================] - 0s 10ms/step - loss: 0.7055 - accuracy: 0.5500\n",
            "Epoch 132/500\n",
            "1/1 [==============================] - 0s 10ms/step - loss: 0.7047 - accuracy: 0.5700\n",
            "Epoch 133/500\n",
            "1/1 [==============================] - 0s 16ms/step - loss: 0.7039 - accuracy: 0.5800\n",
            "Epoch 134/500\n",
            "1/1 [==============================] - 0s 9ms/step - loss: 0.7032 - accuracy: 0.5900\n",
            "Epoch 135/500\n",
            "1/1 [==============================] - 0s 9ms/step - loss: 0.7025 - accuracy: 0.6000\n",
            "Epoch 136/500\n",
            "1/1 [==============================] - 0s 8ms/step - loss: 0.7018 - accuracy: 0.6100\n",
            "Epoch 137/500\n",
            "1/1 [==============================] - 0s 11ms/step - loss: 0.7011 - accuracy: 0.6200\n",
            "Epoch 138/500\n",
            "1/1 [==============================] - 0s 10ms/step - loss: 0.7004 - accuracy: 0.6400\n",
            "Epoch 139/500\n",
            "1/1 [==============================] - 0s 10ms/step - loss: 0.6997 - accuracy: 0.6400\n",
            "Epoch 140/500\n",
            "1/1 [==============================] - 0s 9ms/step - loss: 0.6990 - accuracy: 0.6400\n",
            "Epoch 141/500\n",
            "1/1 [==============================] - 0s 10ms/step - loss: 0.6983 - accuracy: 0.6400\n",
            "Epoch 142/500\n",
            "1/1 [==============================] - 0s 10ms/step - loss: 0.6976 - accuracy: 0.6400\n",
            "Epoch 143/500\n",
            "1/1 [==============================] - 0s 9ms/step - loss: 0.6970 - accuracy: 0.6400\n",
            "Epoch 144/500\n",
            "1/1 [==============================] - 0s 8ms/step - loss: 0.6964 - accuracy: 0.6400\n",
            "Epoch 145/500\n",
            "1/1 [==============================] - 0s 10ms/step - loss: 0.6958 - accuracy: 0.6400\n",
            "Epoch 146/500\n",
            "1/1 [==============================] - 0s 11ms/step - loss: 0.6952 - accuracy: 0.6400\n",
            "Epoch 147/500\n",
            "1/1 [==============================] - 0s 10ms/step - loss: 0.6946 - accuracy: 0.6400\n",
            "Epoch 148/500\n",
            "1/1 [==============================] - 0s 10ms/step - loss: 0.6940 - accuracy: 0.6400\n",
            "Epoch 149/500\n",
            "1/1 [==============================] - 0s 9ms/step - loss: 0.6934 - accuracy: 0.6500\n",
            "Epoch 150/500\n",
            "1/1 [==============================] - 0s 11ms/step - loss: 0.6928 - accuracy: 0.6500\n",
            "Epoch 151/500\n",
            "1/1 [==============================] - 0s 9ms/step - loss: 0.6921 - accuracy: 0.6500\n",
            "Epoch 152/500\n",
            "1/1 [==============================] - 0s 13ms/step - loss: 0.6915 - accuracy: 0.6500\n",
            "Epoch 153/500\n",
            "1/1 [==============================] - 0s 9ms/step - loss: 0.6909 - accuracy: 0.6500\n",
            "Epoch 154/500\n",
            "1/1 [==============================] - 0s 11ms/step - loss: 0.6903 - accuracy: 0.6500\n",
            "Epoch 155/500\n",
            "1/1 [==============================] - 0s 11ms/step - loss: 0.6897 - accuracy: 0.6500\n",
            "Epoch 156/500\n",
            "1/1 [==============================] - 0s 16ms/step - loss: 0.6891 - accuracy: 0.6500\n",
            "Epoch 157/500\n",
            "1/1 [==============================] - 0s 8ms/step - loss: 0.6886 - accuracy: 0.6500\n",
            "Epoch 158/500\n",
            "1/1 [==============================] - 0s 11ms/step - loss: 0.6880 - accuracy: 0.6500\n",
            "Epoch 159/500\n",
            "1/1 [==============================] - 0s 14ms/step - loss: 0.6874 - accuracy: 0.6500\n",
            "Epoch 160/500\n",
            "1/1 [==============================] - 0s 9ms/step - loss: 0.6868 - accuracy: 0.6500\n",
            "Epoch 161/500\n",
            "1/1 [==============================] - 0s 11ms/step - loss: 0.6863 - accuracy: 0.6500\n",
            "Epoch 162/500\n",
            "1/1 [==============================] - 0s 10ms/step - loss: 0.6857 - accuracy: 0.6500\n",
            "Epoch 163/500\n",
            "1/1 [==============================] - 0s 9ms/step - loss: 0.6851 - accuracy: 0.6500\n",
            "Epoch 164/500\n",
            "1/1 [==============================] - 0s 9ms/step - loss: 0.6846 - accuracy: 0.6500\n",
            "Epoch 165/500\n",
            "1/1 [==============================] - 0s 9ms/step - loss: 0.6840 - accuracy: 0.6500\n",
            "Epoch 166/500\n",
            "1/1 [==============================] - 0s 11ms/step - loss: 0.6835 - accuracy: 0.6500\n",
            "Epoch 167/500\n",
            "1/1 [==============================] - 0s 11ms/step - loss: 0.6830 - accuracy: 0.6500\n",
            "Epoch 168/500\n",
            "1/1 [==============================] - 0s 11ms/step - loss: 0.6824 - accuracy: 0.6500\n",
            "Epoch 169/500\n",
            "1/1 [==============================] - 0s 9ms/step - loss: 0.6819 - accuracy: 0.6500\n",
            "Epoch 170/500\n",
            "1/1 [==============================] - 0s 10ms/step - loss: 0.6814 - accuracy: 0.6500\n",
            "Epoch 171/500\n",
            "1/1 [==============================] - 0s 10ms/step - loss: 0.6808 - accuracy: 0.6500\n",
            "Epoch 172/500\n",
            "1/1 [==============================] - 0s 13ms/step - loss: 0.6803 - accuracy: 0.6500\n",
            "Epoch 173/500\n",
            "1/1 [==============================] - 0s 10ms/step - loss: 0.6798 - accuracy: 0.6500\n",
            "Epoch 174/500\n",
            "1/1 [==============================] - 0s 11ms/step - loss: 0.6793 - accuracy: 0.6500\n",
            "Epoch 175/500\n",
            "1/1 [==============================] - 0s 9ms/step - loss: 0.6787 - accuracy: 0.6500\n",
            "Epoch 176/500\n",
            "1/1 [==============================] - 0s 10ms/step - loss: 0.6782 - accuracy: 0.6500\n",
            "Epoch 177/500\n",
            "1/1 [==============================] - 0s 10ms/step - loss: 0.6777 - accuracy: 0.6500\n",
            "Epoch 178/500\n",
            "1/1 [==============================] - 0s 8ms/step - loss: 0.6772 - accuracy: 0.6500\n",
            "Epoch 179/500\n",
            "1/1 [==============================] - 0s 10ms/step - loss: 0.6767 - accuracy: 0.6500\n",
            "Epoch 180/500\n",
            "1/1 [==============================] - 0s 9ms/step - loss: 0.6762 - accuracy: 0.6500\n",
            "Epoch 181/500\n",
            "1/1 [==============================] - 0s 15ms/step - loss: 0.6757 - accuracy: 0.6500\n",
            "Epoch 182/500\n",
            "1/1 [==============================] - 0s 10ms/step - loss: 0.6752 - accuracy: 0.6500\n",
            "Epoch 183/500\n",
            "1/1 [==============================] - 0s 12ms/step - loss: 0.6747 - accuracy: 0.6500\n",
            "Epoch 184/500\n",
            "1/1 [==============================] - 0s 12ms/step - loss: 0.6742 - accuracy: 0.6500\n",
            "Epoch 185/500\n",
            "1/1 [==============================] - 0s 13ms/step - loss: 0.6737 - accuracy: 0.6500\n",
            "Epoch 186/500\n",
            "1/1 [==============================] - 0s 10ms/step - loss: 0.6733 - accuracy: 0.6500\n",
            "Epoch 187/500\n",
            "1/1 [==============================] - 0s 17ms/step - loss: 0.6728 - accuracy: 0.6500\n",
            "Epoch 188/500\n",
            "1/1 [==============================] - 0s 14ms/step - loss: 0.6723 - accuracy: 0.6500\n",
            "Epoch 189/500\n",
            "1/1 [==============================] - 0s 11ms/step - loss: 0.6718 - accuracy: 0.6500\n",
            "Epoch 190/500\n",
            "1/1 [==============================] - 0s 13ms/step - loss: 0.6714 - accuracy: 0.6500\n",
            "Epoch 191/500\n",
            "1/1 [==============================] - 0s 11ms/step - loss: 0.6709 - accuracy: 0.6500\n",
            "Epoch 192/500\n",
            "1/1 [==============================] - 0s 11ms/step - loss: 0.6705 - accuracy: 0.6500\n",
            "Epoch 193/500\n",
            "1/1 [==============================] - 0s 10ms/step - loss: 0.6700 - accuracy: 0.6500\n",
            "Epoch 194/500\n",
            "1/1 [==============================] - 0s 8ms/step - loss: 0.6696 - accuracy: 0.6500\n",
            "Epoch 195/500\n",
            "1/1 [==============================] - 0s 10ms/step - loss: 0.6691 - accuracy: 0.6500\n",
            "Epoch 196/500\n",
            "1/1 [==============================] - 0s 9ms/step - loss: 0.6687 - accuracy: 0.6500\n",
            "Epoch 197/500\n",
            "1/1 [==============================] - 0s 11ms/step - loss: 0.6682 - accuracy: 0.6500\n",
            "Epoch 198/500\n",
            "1/1 [==============================] - 0s 15ms/step - loss: 0.6678 - accuracy: 0.6500\n",
            "Epoch 199/500\n",
            "1/1 [==============================] - 0s 11ms/step - loss: 0.6674 - accuracy: 0.6500\n",
            "Epoch 200/500\n",
            "1/1 [==============================] - 0s 9ms/step - loss: 0.6669 - accuracy: 0.6500\n",
            "Epoch 201/500\n",
            "1/1 [==============================] - 0s 12ms/step - loss: 0.6665 - accuracy: 0.6500\n",
            "Epoch 202/500\n",
            "1/1 [==============================] - 0s 11ms/step - loss: 0.6661 - accuracy: 0.6500\n",
            "Epoch 203/500\n",
            "1/1 [==============================] - 0s 12ms/step - loss: 0.6657 - accuracy: 0.6500\n",
            "Epoch 204/500\n",
            "1/1 [==============================] - 0s 14ms/step - loss: 0.6653 - accuracy: 0.6500\n",
            "Epoch 205/500\n",
            "1/1 [==============================] - 0s 10ms/step - loss: 0.6649 - accuracy: 0.6500\n",
            "Epoch 206/500\n",
            "1/1 [==============================] - 0s 10ms/step - loss: 0.6645 - accuracy: 0.6500\n",
            "Epoch 207/500\n",
            "1/1 [==============================] - 0s 9ms/step - loss: 0.6641 - accuracy: 0.6500\n",
            "Epoch 208/500\n",
            "1/1 [==============================] - 0s 10ms/step - loss: 0.6637 - accuracy: 0.6500\n",
            "Epoch 209/500\n",
            "1/1 [==============================] - 0s 8ms/step - loss: 0.6633 - accuracy: 0.6500\n",
            "Epoch 210/500\n",
            "1/1 [==============================] - 0s 8ms/step - loss: 0.6629 - accuracy: 0.6500\n",
            "Epoch 211/500\n",
            "1/1 [==============================] - 0s 9ms/step - loss: 0.6625 - accuracy: 0.6500\n",
            "Epoch 212/500\n",
            "1/1 [==============================] - 0s 7ms/step - loss: 0.6621 - accuracy: 0.6500\n",
            "Epoch 213/500\n",
            "1/1 [==============================] - 0s 10ms/step - loss: 0.6617 - accuracy: 0.6500\n",
            "Epoch 214/500\n",
            "1/1 [==============================] - 0s 11ms/step - loss: 0.6613 - accuracy: 0.6500\n",
            "Epoch 215/500\n",
            "1/1 [==============================] - 0s 6ms/step - loss: 0.6610 - accuracy: 0.6500\n",
            "Epoch 216/500\n",
            "1/1 [==============================] - 0s 11ms/step - loss: 0.6606 - accuracy: 0.6500\n",
            "Epoch 217/500\n",
            "1/1 [==============================] - 0s 9ms/step - loss: 0.6602 - accuracy: 0.6500\n",
            "Epoch 218/500\n",
            "1/1 [==============================] - 0s 11ms/step - loss: 0.6598 - accuracy: 0.6500\n",
            "Epoch 219/500\n",
            "1/1 [==============================] - 0s 17ms/step - loss: 0.6595 - accuracy: 0.6500\n",
            "Epoch 220/500\n",
            "1/1 [==============================] - 0s 16ms/step - loss: 0.6591 - accuracy: 0.6500\n",
            "Epoch 221/500\n",
            "1/1 [==============================] - 0s 13ms/step - loss: 0.6588 - accuracy: 0.6500\n",
            "Epoch 222/500\n",
            "1/1 [==============================] - 0s 12ms/step - loss: 0.6584 - accuracy: 0.6500\n",
            "Epoch 223/500\n",
            "1/1 [==============================] - 0s 13ms/step - loss: 0.6581 - accuracy: 0.6500\n",
            "Epoch 224/500\n",
            "1/1 [==============================] - 0s 11ms/step - loss: 0.6577 - accuracy: 0.6500\n",
            "Epoch 225/500\n",
            "1/1 [==============================] - 0s 11ms/step - loss: 0.6574 - accuracy: 0.6500\n",
            "Epoch 226/500\n",
            "1/1 [==============================] - 0s 10ms/step - loss: 0.6570 - accuracy: 0.6500\n",
            "Epoch 227/500\n",
            "1/1 [==============================] - 0s 9ms/step - loss: 0.6567 - accuracy: 0.6500\n",
            "Epoch 228/500\n",
            "1/1 [==============================] - 0s 14ms/step - loss: 0.6564 - accuracy: 0.6500\n",
            "Epoch 229/500\n",
            "1/1 [==============================] - 0s 12ms/step - loss: 0.6561 - accuracy: 0.6500\n",
            "Epoch 230/500\n",
            "1/1 [==============================] - 0s 11ms/step - loss: 0.6558 - accuracy: 0.6500\n",
            "Epoch 231/500\n",
            "1/1 [==============================] - 0s 6ms/step - loss: 0.6554 - accuracy: 0.6500\n",
            "Epoch 232/500\n",
            "1/1 [==============================] - 0s 6ms/step - loss: 0.6551 - accuracy: 0.6500\n",
            "Epoch 233/500\n",
            "1/1 [==============================] - 0s 6ms/step - loss: 0.6548 - accuracy: 0.6500\n",
            "Epoch 234/500\n",
            "1/1 [==============================] - 0s 6ms/step - loss: 0.6544 - accuracy: 0.6500\n",
            "Epoch 235/500\n",
            "1/1 [==============================] - 0s 12ms/step - loss: 0.6541 - accuracy: 0.6500\n",
            "Epoch 236/500\n",
            "1/1 [==============================] - 0s 10ms/step - loss: 0.6538 - accuracy: 0.6500\n",
            "Epoch 237/500\n",
            "1/1 [==============================] - 0s 11ms/step - loss: 0.6535 - accuracy: 0.6500\n",
            "Epoch 238/500\n",
            "1/1 [==============================] - 0s 8ms/step - loss: 0.6532 - accuracy: 0.6500\n",
            "Epoch 239/500\n",
            "1/1 [==============================] - 0s 15ms/step - loss: 0.6529 - accuracy: 0.6500\n",
            "Epoch 240/500\n",
            "1/1 [==============================] - 0s 8ms/step - loss: 0.6526 - accuracy: 0.6500\n",
            "Epoch 241/500\n",
            "1/1 [==============================] - 0s 7ms/step - loss: 0.6523 - accuracy: 0.6500\n",
            "Epoch 242/500\n",
            "1/1 [==============================] - 0s 6ms/step - loss: 0.6520 - accuracy: 0.6500\n",
            "Epoch 243/500\n",
            "1/1 [==============================] - 0s 6ms/step - loss: 0.6517 - accuracy: 0.6500\n",
            "Epoch 244/500\n",
            "1/1 [==============================] - 0s 10ms/step - loss: 0.6515 - accuracy: 0.6500\n",
            "Epoch 245/500\n",
            "1/1 [==============================] - 0s 9ms/step - loss: 0.6512 - accuracy: 0.6500\n",
            "Epoch 246/500\n",
            "1/1 [==============================] - 0s 8ms/step - loss: 0.6509 - accuracy: 0.6500\n",
            "Epoch 247/500\n",
            "1/1 [==============================] - 0s 6ms/step - loss: 0.6506 - accuracy: 0.6500\n",
            "Epoch 248/500\n",
            "1/1 [==============================] - 0s 9ms/step - loss: 0.6503 - accuracy: 0.6500\n",
            "Epoch 249/500\n",
            "1/1 [==============================] - 0s 6ms/step - loss: 0.6500 - accuracy: 0.6500\n",
            "Epoch 250/500\n",
            "1/1 [==============================] - 0s 6ms/step - loss: 0.6498 - accuracy: 0.6500\n",
            "Epoch 251/500\n",
            "1/1 [==============================] - 0s 8ms/step - loss: 0.6495 - accuracy: 0.6500\n",
            "Epoch 252/500\n",
            "1/1 [==============================] - 0s 9ms/step - loss: 0.6492 - accuracy: 0.6500\n",
            "Epoch 253/500\n",
            "1/1 [==============================] - 0s 10ms/step - loss: 0.6489 - accuracy: 0.6500\n",
            "Epoch 254/500\n",
            "1/1 [==============================] - 0s 9ms/step - loss: 0.6487 - accuracy: 0.6500\n",
            "Epoch 255/500\n",
            "1/1 [==============================] - 0s 11ms/step - loss: 0.6484 - accuracy: 0.6500\n",
            "Epoch 256/500\n",
            "1/1 [==============================] - 0s 11ms/step - loss: 0.6482 - accuracy: 0.6500\n",
            "Epoch 257/500\n",
            "1/1 [==============================] - 0s 12ms/step - loss: 0.6479 - accuracy: 0.6500\n",
            "Epoch 258/500\n",
            "1/1 [==============================] - 0s 11ms/step - loss: 0.6476 - accuracy: 0.6500\n",
            "Epoch 259/500\n",
            "1/1 [==============================] - 0s 12ms/step - loss: 0.6474 - accuracy: 0.6500\n",
            "Epoch 260/500\n",
            "1/1 [==============================] - 0s 12ms/step - loss: 0.6471 - accuracy: 0.6500\n",
            "Epoch 261/500\n",
            "1/1 [==============================] - 0s 11ms/step - loss: 0.6469 - accuracy: 0.6500\n",
            "Epoch 262/500\n",
            "1/1 [==============================] - 0s 13ms/step - loss: 0.6466 - accuracy: 0.6500\n",
            "Epoch 263/500\n",
            "1/1 [==============================] - 0s 16ms/step - loss: 0.6464 - accuracy: 0.6500\n",
            "Epoch 264/500\n",
            "1/1 [==============================] - 0s 12ms/step - loss: 0.6461 - accuracy: 0.6500\n",
            "Epoch 265/500\n",
            "1/1 [==============================] - 0s 11ms/step - loss: 0.6459 - accuracy: 0.6500\n",
            "Epoch 266/500\n",
            "1/1 [==============================] - 0s 7ms/step - loss: 0.6456 - accuracy: 0.6500\n",
            "Epoch 267/500\n",
            "1/1 [==============================] - 0s 11ms/step - loss: 0.6454 - accuracy: 0.6500\n",
            "Epoch 268/500\n",
            "1/1 [==============================] - 0s 7ms/step - loss: 0.6451 - accuracy: 0.6500\n",
            "Epoch 269/500\n",
            "1/1 [==============================] - 0s 21ms/step - loss: 0.6449 - accuracy: 0.6500\n",
            "Epoch 270/500\n",
            "1/1 [==============================] - 0s 14ms/step - loss: 0.6446 - accuracy: 0.6500\n",
            "Epoch 271/500\n",
            "1/1 [==============================] - 0s 13ms/step - loss: 0.6444 - accuracy: 0.6500\n",
            "Epoch 272/500\n",
            "1/1 [==============================] - 0s 13ms/step - loss: 0.6442 - accuracy: 0.6500\n",
            "Epoch 273/500\n",
            "1/1 [==============================] - 0s 19ms/step - loss: 0.6439 - accuracy: 0.6500\n",
            "Epoch 274/500\n",
            "1/1 [==============================] - 0s 16ms/step - loss: 0.6437 - accuracy: 0.6500\n",
            "Epoch 275/500\n",
            "1/1 [==============================] - 0s 9ms/step - loss: 0.6434 - accuracy: 0.6500\n",
            "Epoch 276/500\n",
            "1/1 [==============================] - 0s 12ms/step - loss: 0.6432 - accuracy: 0.6500\n",
            "Epoch 277/500\n",
            "1/1 [==============================] - 0s 11ms/step - loss: 0.6430 - accuracy: 0.6500\n",
            "Epoch 278/500\n",
            "1/1 [==============================] - 0s 16ms/step - loss: 0.6427 - accuracy: 0.6500\n",
            "Epoch 279/500\n",
            "1/1 [==============================] - 0s 11ms/step - loss: 0.6425 - accuracy: 0.6500\n",
            "Epoch 280/500\n",
            "1/1 [==============================] - 0s 11ms/step - loss: 0.6423 - accuracy: 0.6500\n",
            "Epoch 281/500\n",
            "1/1 [==============================] - 0s 11ms/step - loss: 0.6421 - accuracy: 0.6500\n",
            "Epoch 282/500\n",
            "1/1 [==============================] - 0s 11ms/step - loss: 0.6418 - accuracy: 0.6500\n",
            "Epoch 283/500\n",
            "1/1 [==============================] - 0s 7ms/step - loss: 0.6416 - accuracy: 0.6500\n",
            "Epoch 284/500\n",
            "1/1 [==============================] - 0s 9ms/step - loss: 0.6414 - accuracy: 0.6500\n",
            "Epoch 285/500\n",
            "1/1 [==============================] - 0s 14ms/step - loss: 0.6411 - accuracy: 0.6500\n",
            "Epoch 286/500\n",
            "1/1 [==============================] - 0s 11ms/step - loss: 0.6409 - accuracy: 0.6500\n",
            "Epoch 287/500\n",
            "1/1 [==============================] - 0s 13ms/step - loss: 0.6407 - accuracy: 0.6500\n",
            "Epoch 288/500\n",
            "1/1 [==============================] - 0s 10ms/step - loss: 0.6405 - accuracy: 0.6500\n",
            "Epoch 289/500\n",
            "1/1 [==============================] - 0s 9ms/step - loss: 0.6403 - accuracy: 0.6500\n",
            "Epoch 290/500\n",
            "1/1 [==============================] - 0s 7ms/step - loss: 0.6400 - accuracy: 0.6500\n",
            "Epoch 291/500\n",
            "1/1 [==============================] - 0s 8ms/step - loss: 0.6398 - accuracy: 0.6500\n",
            "Epoch 292/500\n",
            "1/1 [==============================] - 0s 9ms/step - loss: 0.6396 - accuracy: 0.6500\n",
            "Epoch 293/500\n",
            "1/1 [==============================] - 0s 13ms/step - loss: 0.6394 - accuracy: 0.6500\n",
            "Epoch 294/500\n",
            "1/1 [==============================] - 0s 17ms/step - loss: 0.6392 - accuracy: 0.6500\n",
            "Epoch 295/500\n",
            "1/1 [==============================] - 0s 10ms/step - loss: 0.6390 - accuracy: 0.6500\n",
            "Epoch 296/500\n",
            "1/1 [==============================] - 0s 8ms/step - loss: 0.6387 - accuracy: 0.6500\n",
            "Epoch 297/500\n",
            "1/1 [==============================] - 0s 9ms/step - loss: 0.6385 - accuracy: 0.6500\n",
            "Epoch 298/500\n",
            "1/1 [==============================] - 0s 10ms/step - loss: 0.6383 - accuracy: 0.6500\n",
            "Epoch 299/500\n",
            "1/1 [==============================] - 0s 10ms/step - loss: 0.6381 - accuracy: 0.6500\n",
            "Epoch 300/500\n",
            "1/1 [==============================] - 0s 10ms/step - loss: 0.6379 - accuracy: 0.6500\n",
            "Epoch 301/500\n",
            "1/1 [==============================] - 0s 9ms/step - loss: 0.6377 - accuracy: 0.6500\n",
            "Epoch 302/500\n",
            "1/1 [==============================] - 0s 10ms/step - loss: 0.6375 - accuracy: 0.6500\n",
            "Epoch 303/500\n",
            "1/1 [==============================] - 0s 10ms/step - loss: 0.6373 - accuracy: 0.6500\n",
            "Epoch 304/500\n",
            "1/1 [==============================] - 0s 12ms/step - loss: 0.6371 - accuracy: 0.6500\n",
            "Epoch 305/500\n",
            "1/1 [==============================] - 0s 11ms/step - loss: 0.6369 - accuracy: 0.6500\n",
            "Epoch 306/500\n",
            "1/1 [==============================] - 0s 13ms/step - loss: 0.6367 - accuracy: 0.6500\n",
            "Epoch 307/500\n",
            "1/1 [==============================] - 0s 12ms/step - loss: 0.6364 - accuracy: 0.6500\n",
            "Epoch 308/500\n",
            "1/1 [==============================] - 0s 8ms/step - loss: 0.6362 - accuracy: 0.6500\n",
            "Epoch 309/500\n",
            "1/1 [==============================] - 0s 6ms/step - loss: 0.6360 - accuracy: 0.6500\n",
            "Epoch 310/500\n",
            "1/1 [==============================] - 0s 11ms/step - loss: 0.6358 - accuracy: 0.6500\n",
            "Epoch 311/500\n",
            "1/1 [==============================] - 0s 12ms/step - loss: 0.6356 - accuracy: 0.6500\n",
            "Epoch 312/500\n",
            "1/1 [==============================] - 0s 10ms/step - loss: 0.6354 - accuracy: 0.6500\n",
            "Epoch 313/500\n",
            "1/1 [==============================] - 0s 12ms/step - loss: 0.6352 - accuracy: 0.6500\n",
            "Epoch 314/500\n",
            "1/1 [==============================] - 0s 9ms/step - loss: 0.6350 - accuracy: 0.6500\n",
            "Epoch 315/500\n",
            "1/1 [==============================] - 0s 9ms/step - loss: 0.6348 - accuracy: 0.6500\n",
            "Epoch 316/500\n",
            "1/1 [==============================] - 0s 8ms/step - loss: 0.6346 - accuracy: 0.6500\n",
            "Epoch 317/500\n",
            "1/1 [==============================] - 0s 11ms/step - loss: 0.6344 - accuracy: 0.6500\n",
            "Epoch 318/500\n",
            "1/1 [==============================] - 0s 9ms/step - loss: 0.6342 - accuracy: 0.6500\n",
            "Epoch 319/500\n",
            "1/1 [==============================] - 0s 11ms/step - loss: 0.6340 - accuracy: 0.6500\n",
            "Epoch 320/500\n",
            "1/1 [==============================] - 0s 13ms/step - loss: 0.6338 - accuracy: 0.6500\n",
            "Epoch 321/500\n",
            "1/1 [==============================] - 0s 10ms/step - loss: 0.6336 - accuracy: 0.6500\n",
            "Epoch 322/500\n",
            "1/1 [==============================] - 0s 12ms/step - loss: 0.6334 - accuracy: 0.6500\n",
            "Epoch 323/500\n",
            "1/1 [==============================] - 0s 12ms/step - loss: 0.6332 - accuracy: 0.6500\n",
            "Epoch 324/500\n",
            "1/1 [==============================] - 0s 14ms/step - loss: 0.6330 - accuracy: 0.6500\n",
            "Epoch 325/500\n",
            "1/1 [==============================] - 0s 10ms/step - loss: 0.6328 - accuracy: 0.6500\n",
            "Epoch 326/500\n",
            "1/1 [==============================] - 0s 9ms/step - loss: 0.6326 - accuracy: 0.6500\n",
            "Epoch 327/500\n",
            "1/1 [==============================] - 0s 14ms/step - loss: 0.6324 - accuracy: 0.6500\n",
            "Epoch 328/500\n",
            "1/1 [==============================] - 0s 15ms/step - loss: 0.6322 - accuracy: 0.6500\n",
            "Epoch 329/500\n",
            "1/1 [==============================] - 0s 10ms/step - loss: 0.6320 - accuracy: 0.6500\n",
            "Epoch 330/500\n",
            "1/1 [==============================] - 0s 11ms/step - loss: 0.6318 - accuracy: 0.6500\n",
            "Epoch 331/500\n",
            "1/1 [==============================] - 0s 9ms/step - loss: 0.6316 - accuracy: 0.6500\n",
            "Epoch 332/500\n",
            "1/1 [==============================] - 0s 8ms/step - loss: 0.6314 - accuracy: 0.6500\n",
            "Epoch 333/500\n",
            "1/1 [==============================] - 0s 8ms/step - loss: 0.6312 - accuracy: 0.6500\n",
            "Epoch 334/500\n",
            "1/1 [==============================] - 0s 12ms/step - loss: 0.6310 - accuracy: 0.6500\n",
            "Epoch 335/500\n",
            "1/1 [==============================] - 0s 12ms/step - loss: 0.6308 - accuracy: 0.6500\n",
            "Epoch 336/500\n",
            "1/1 [==============================] - 0s 14ms/step - loss: 0.6306 - accuracy: 0.6500\n",
            "Epoch 337/500\n",
            "1/1 [==============================] - 0s 16ms/step - loss: 0.6304 - accuracy: 0.6500\n",
            "Epoch 338/500\n",
            "1/1 [==============================] - 0s 13ms/step - loss: 0.6302 - accuracy: 0.6500\n",
            "Epoch 339/500\n",
            "1/1 [==============================] - 0s 16ms/step - loss: 0.6300 - accuracy: 0.6500\n",
            "Epoch 340/500\n",
            "1/1 [==============================] - 0s 14ms/step - loss: 0.6298 - accuracy: 0.6500\n",
            "Epoch 341/500\n",
            "1/1 [==============================] - 0s 12ms/step - loss: 0.6296 - accuracy: 0.6500\n",
            "Epoch 342/500\n",
            "1/1 [==============================] - 0s 13ms/step - loss: 0.6294 - accuracy: 0.6500\n",
            "Epoch 343/500\n",
            "1/1 [==============================] - 0s 13ms/step - loss: 0.6292 - accuracy: 0.6500\n",
            "Epoch 344/500\n",
            "1/1 [==============================] - 0s 15ms/step - loss: 0.6290 - accuracy: 0.6500\n",
            "Epoch 345/500\n",
            "1/1 [==============================] - 0s 15ms/step - loss: 0.6288 - accuracy: 0.6500\n",
            "Epoch 346/500\n",
            "1/1 [==============================] - 0s 12ms/step - loss: 0.6286 - accuracy: 0.6500\n",
            "Epoch 347/500\n",
            "1/1 [==============================] - 0s 16ms/step - loss: 0.6284 - accuracy: 0.6500\n",
            "Epoch 348/500\n",
            "1/1 [==============================] - 0s 14ms/step - loss: 0.6282 - accuracy: 0.6500\n",
            "Epoch 349/500\n",
            "1/1 [==============================] - 0s 12ms/step - loss: 0.6280 - accuracy: 0.6500\n",
            "Epoch 350/500\n",
            "1/1 [==============================] - 0s 9ms/step - loss: 0.6278 - accuracy: 0.6500\n",
            "Epoch 351/500\n",
            "1/1 [==============================] - 0s 8ms/step - loss: 0.6276 - accuracy: 0.6500\n",
            "Epoch 352/500\n",
            "1/1 [==============================] - 0s 9ms/step - loss: 0.6274 - accuracy: 0.6500\n",
            "Epoch 353/500\n",
            "1/1 [==============================] - 0s 9ms/step - loss: 0.6272 - accuracy: 0.6500\n",
            "Epoch 354/500\n",
            "1/1 [==============================] - 0s 6ms/step - loss: 0.6270 - accuracy: 0.6500\n",
            "Epoch 355/500\n",
            "1/1 [==============================] - 0s 7ms/step - loss: 0.6268 - accuracy: 0.6500\n",
            "Epoch 356/500\n",
            "1/1 [==============================] - 0s 6ms/step - loss: 0.6266 - accuracy: 0.6500\n",
            "Epoch 357/500\n",
            "1/1 [==============================] - 0s 7ms/step - loss: 0.6264 - accuracy: 0.6500\n",
            "Epoch 358/500\n",
            "1/1 [==============================] - 0s 9ms/step - loss: 0.6262 - accuracy: 0.6500\n",
            "Epoch 359/500\n",
            "1/1 [==============================] - 0s 8ms/step - loss: 0.6260 - accuracy: 0.6500\n",
            "Epoch 360/500\n",
            "1/1 [==============================] - 0s 9ms/step - loss: 0.6258 - accuracy: 0.6500\n",
            "Epoch 361/500\n",
            "1/1 [==============================] - 0s 11ms/step - loss: 0.6256 - accuracy: 0.6500\n",
            "Epoch 362/500\n",
            "1/1 [==============================] - 0s 10ms/step - loss: 0.6254 - accuracy: 0.6500\n",
            "Epoch 363/500\n",
            "1/1 [==============================] - 0s 8ms/step - loss: 0.6252 - accuracy: 0.6500\n",
            "Epoch 364/500\n",
            "1/1 [==============================] - 0s 11ms/step - loss: 0.6250 - accuracy: 0.6500\n",
            "Epoch 365/500\n",
            "1/1 [==============================] - 0s 10ms/step - loss: 0.6247 - accuracy: 0.6500\n",
            "Epoch 366/500\n",
            "1/1 [==============================] - 0s 7ms/step - loss: 0.6245 - accuracy: 0.6500\n",
            "Epoch 367/500\n",
            "1/1 [==============================] - 0s 6ms/step - loss: 0.6243 - accuracy: 0.6500\n",
            "Epoch 368/500\n",
            "1/1 [==============================] - 0s 7ms/step - loss: 0.6241 - accuracy: 0.6500\n",
            "Epoch 369/500\n",
            "1/1 [==============================] - 0s 7ms/step - loss: 0.6239 - accuracy: 0.6500\n",
            "Epoch 370/500\n",
            "1/1 [==============================] - 0s 6ms/step - loss: 0.6237 - accuracy: 0.6500\n",
            "Epoch 371/500\n",
            "1/1 [==============================] - 0s 13ms/step - loss: 0.6235 - accuracy: 0.6500\n",
            "Epoch 372/500\n",
            "1/1 [==============================] - 0s 15ms/step - loss: 0.6233 - accuracy: 0.6500\n",
            "Epoch 373/500\n",
            "1/1 [==============================] - 0s 9ms/step - loss: 0.6231 - accuracy: 0.6500\n",
            "Epoch 374/500\n",
            "1/1 [==============================] - 0s 8ms/step - loss: 0.6229 - accuracy: 0.6500\n",
            "Epoch 375/500\n",
            "1/1 [==============================] - 0s 12ms/step - loss: 0.6227 - accuracy: 0.6500\n",
            "Epoch 376/500\n",
            "1/1 [==============================] - 0s 11ms/step - loss: 0.6225 - accuracy: 0.6500\n",
            "Epoch 377/500\n",
            "1/1 [==============================] - 0s 12ms/step - loss: 0.6223 - accuracy: 0.6500\n",
            "Epoch 378/500\n",
            "1/1 [==============================] - 0s 11ms/step - loss: 0.6221 - accuracy: 0.6500\n",
            "Epoch 379/500\n",
            "1/1 [==============================] - 0s 6ms/step - loss: 0.6219 - accuracy: 0.6500\n",
            "Epoch 380/500\n",
            "1/1 [==============================] - 0s 11ms/step - loss: 0.6217 - accuracy: 0.6500\n",
            "Epoch 381/500\n",
            "1/1 [==============================] - 0s 7ms/step - loss: 0.6215 - accuracy: 0.6500\n",
            "Epoch 382/500\n",
            "1/1 [==============================] - 0s 9ms/step - loss: 0.6213 - accuracy: 0.6500\n",
            "Epoch 383/500\n",
            "1/1 [==============================] - 0s 10ms/step - loss: 0.6211 - accuracy: 0.6500\n",
            "Epoch 384/500\n",
            "1/1 [==============================] - 0s 11ms/step - loss: 0.6209 - accuracy: 0.6500\n",
            "Epoch 385/500\n",
            "1/1 [==============================] - 0s 15ms/step - loss: 0.6207 - accuracy: 0.6500\n",
            "Epoch 386/500\n",
            "1/1 [==============================] - 0s 9ms/step - loss: 0.6205 - accuracy: 0.6500\n",
            "Epoch 387/500\n",
            "1/1 [==============================] - 0s 18ms/step - loss: 0.6203 - accuracy: 0.6500\n",
            "Epoch 388/500\n",
            "1/1 [==============================] - 0s 9ms/step - loss: 0.6201 - accuracy: 0.6500\n",
            "Epoch 389/500\n",
            "1/1 [==============================] - 0s 15ms/step - loss: 0.6199 - accuracy: 0.6500\n",
            "Epoch 390/500\n",
            "1/1 [==============================] - 0s 7ms/step - loss: 0.6197 - accuracy: 0.6500\n",
            "Epoch 391/500\n",
            "1/1 [==============================] - 0s 9ms/step - loss: 0.6195 - accuracy: 0.6500\n",
            "Epoch 392/500\n",
            "1/1 [==============================] - 0s 6ms/step - loss: 0.6193 - accuracy: 0.6500\n",
            "Epoch 393/500\n",
            "1/1 [==============================] - 0s 12ms/step - loss: 0.6191 - accuracy: 0.6500\n",
            "Epoch 394/500\n",
            "1/1 [==============================] - 0s 11ms/step - loss: 0.6189 - accuracy: 0.6500\n",
            "Epoch 395/500\n",
            "1/1 [==============================] - 0s 8ms/step - loss: 0.6186 - accuracy: 0.6500\n",
            "Epoch 396/500\n",
            "1/1 [==============================] - 0s 13ms/step - loss: 0.6184 - accuracy: 0.6500\n",
            "Epoch 397/500\n",
            "1/1 [==============================] - 0s 6ms/step - loss: 0.6182 - accuracy: 0.6500\n",
            "Epoch 398/500\n",
            "1/1 [==============================] - 0s 11ms/step - loss: 0.6180 - accuracy: 0.6500\n",
            "Epoch 399/500\n",
            "1/1 [==============================] - 0s 7ms/step - loss: 0.6178 - accuracy: 0.6500\n",
            "Epoch 400/500\n",
            "1/1 [==============================] - 0s 10ms/step - loss: 0.6176 - accuracy: 0.6500\n",
            "Epoch 401/500\n",
            "1/1 [==============================] - 0s 10ms/step - loss: 0.6174 - accuracy: 0.6500\n",
            "Epoch 402/500\n",
            "1/1 [==============================] - 0s 6ms/step - loss: 0.6172 - accuracy: 0.6500\n",
            "Epoch 403/500\n",
            "1/1 [==============================] - 0s 13ms/step - loss: 0.6170 - accuracy: 0.6500\n",
            "Epoch 404/500\n",
            "1/1 [==============================] - 0s 6ms/step - loss: 0.6168 - accuracy: 0.6500\n",
            "Epoch 405/500\n",
            "1/1 [==============================] - 0s 11ms/step - loss: 0.6166 - accuracy: 0.6500\n",
            "Epoch 406/500\n",
            "1/1 [==============================] - 0s 6ms/step - loss: 0.6164 - accuracy: 0.6500\n",
            "Epoch 407/500\n",
            "1/1 [==============================] - 0s 11ms/step - loss: 0.6162 - accuracy: 0.6500\n",
            "Epoch 408/500\n",
            "1/1 [==============================] - 0s 6ms/step - loss: 0.6160 - accuracy: 0.6500\n",
            "Epoch 409/500\n",
            "1/1 [==============================] - 0s 12ms/step - loss: 0.6158 - accuracy: 0.6500\n",
            "Epoch 410/500\n",
            "1/1 [==============================] - 0s 11ms/step - loss: 0.6156 - accuracy: 0.6500\n",
            "Epoch 411/500\n",
            "1/1 [==============================] - 0s 10ms/step - loss: 0.6154 - accuracy: 0.6500\n",
            "Epoch 412/500\n",
            "1/1 [==============================] - 0s 14ms/step - loss: 0.6152 - accuracy: 0.6500\n",
            "Epoch 413/500\n",
            "1/1 [==============================] - 0s 12ms/step - loss: 0.6150 - accuracy: 0.6500\n",
            "Epoch 414/500\n",
            "1/1 [==============================] - 0s 10ms/step - loss: 0.6148 - accuracy: 0.6500\n",
            "Epoch 415/500\n",
            "1/1 [==============================] - 0s 9ms/step - loss: 0.6146 - accuracy: 0.6500\n",
            "Epoch 416/500\n",
            "1/1 [==============================] - 0s 8ms/step - loss: 0.6144 - accuracy: 0.6500\n",
            "Epoch 417/500\n",
            "1/1 [==============================] - 0s 8ms/step - loss: 0.6142 - accuracy: 0.6500\n",
            "Epoch 418/500\n",
            "1/1 [==============================] - 0s 20ms/step - loss: 0.6140 - accuracy: 0.6500\n",
            "Epoch 419/500\n",
            "1/1 [==============================] - 0s 10ms/step - loss: 0.6138 - accuracy: 0.6500\n",
            "Epoch 420/500\n",
            "1/1 [==============================] - 0s 15ms/step - loss: 0.6136 - accuracy: 0.6500\n",
            "Epoch 421/500\n",
            "1/1 [==============================] - 0s 14ms/step - loss: 0.6134 - accuracy: 0.6500\n",
            "Epoch 422/500\n",
            "1/1 [==============================] - 0s 10ms/step - loss: 0.6132 - accuracy: 0.6500\n",
            "Epoch 423/500\n",
            "1/1 [==============================] - 0s 10ms/step - loss: 0.6130 - accuracy: 0.6500\n",
            "Epoch 424/500\n",
            "1/1 [==============================] - 0s 13ms/step - loss: 0.6128 - accuracy: 0.6500\n",
            "Epoch 425/500\n",
            "1/1 [==============================] - 0s 11ms/step - loss: 0.6126 - accuracy: 0.6500\n",
            "Epoch 426/500\n",
            "1/1 [==============================] - 0s 14ms/step - loss: 0.6124 - accuracy: 0.6500\n",
            "Epoch 427/500\n",
            "1/1 [==============================] - 0s 9ms/step - loss: 0.6122 - accuracy: 0.6500\n",
            "Epoch 428/500\n",
            "1/1 [==============================] - 0s 11ms/step - loss: 0.6120 - accuracy: 0.6500\n",
            "Epoch 429/500\n",
            "1/1 [==============================] - 0s 10ms/step - loss: 0.6118 - accuracy: 0.6500\n",
            "Epoch 430/500\n",
            "1/1 [==============================] - 0s 12ms/step - loss: 0.6116 - accuracy: 0.6500\n",
            "Epoch 431/500\n",
            "1/1 [==============================] - 0s 13ms/step - loss: 0.6114 - accuracy: 0.6500\n",
            "Epoch 432/500\n",
            "1/1 [==============================] - 0s 13ms/step - loss: 0.6112 - accuracy: 0.6500\n",
            "Epoch 433/500\n",
            "1/1 [==============================] - 0s 12ms/step - loss: 0.6110 - accuracy: 0.6500\n",
            "Epoch 434/500\n",
            "1/1 [==============================] - 0s 11ms/step - loss: 0.6108 - accuracy: 0.6500\n",
            "Epoch 435/500\n",
            "1/1 [==============================] - 0s 20ms/step - loss: 0.6106 - accuracy: 0.6500\n",
            "Epoch 436/500\n",
            "1/1 [==============================] - 0s 11ms/step - loss: 0.6104 - accuracy: 0.6500\n",
            "Epoch 437/500\n",
            "1/1 [==============================] - 0s 8ms/step - loss: 0.6102 - accuracy: 0.6500\n",
            "Epoch 438/500\n",
            "1/1 [==============================] - 0s 10ms/step - loss: 0.6100 - accuracy: 0.6500\n",
            "Epoch 439/500\n",
            "1/1 [==============================] - 0s 15ms/step - loss: 0.6098 - accuracy: 0.6500\n",
            "Epoch 440/500\n",
            "1/1 [==============================] - 0s 7ms/step - loss: 0.6096 - accuracy: 0.6500\n",
            "Epoch 441/500\n",
            "1/1 [==============================] - 0s 8ms/step - loss: 0.6095 - accuracy: 0.6500\n",
            "Epoch 442/500\n",
            "1/1 [==============================] - 0s 9ms/step - loss: 0.6093 - accuracy: 0.6500\n",
            "Epoch 443/500\n",
            "1/1 [==============================] - 0s 10ms/step - loss: 0.6091 - accuracy: 0.6500\n",
            "Epoch 444/500\n",
            "1/1 [==============================] - 0s 10ms/step - loss: 0.6089 - accuracy: 0.6500\n",
            "Epoch 445/500\n",
            "1/1 [==============================] - 0s 8ms/step - loss: 0.6087 - accuracy: 0.6500\n",
            "Epoch 446/500\n",
            "1/1 [==============================] - 0s 9ms/step - loss: 0.6085 - accuracy: 0.6500\n",
            "Epoch 447/500\n",
            "1/1 [==============================] - 0s 8ms/step - loss: 0.6083 - accuracy: 0.6500\n",
            "Epoch 448/500\n",
            "1/1 [==============================] - 0s 10ms/step - loss: 0.6081 - accuracy: 0.6500\n",
            "Epoch 449/500\n",
            "1/1 [==============================] - 0s 11ms/step - loss: 0.6079 - accuracy: 0.6500\n",
            "Epoch 450/500\n",
            "1/1 [==============================] - 0s 8ms/step - loss: 0.6077 - accuracy: 0.6500\n",
            "Epoch 451/500\n",
            "1/1 [==============================] - 0s 10ms/step - loss: 0.6075 - accuracy: 0.6500\n",
            "Epoch 452/500\n",
            "1/1 [==============================] - 0s 8ms/step - loss: 0.6073 - accuracy: 0.6500\n",
            "Epoch 453/500\n",
            "1/1 [==============================] - 0s 9ms/step - loss: 0.6071 - accuracy: 0.6500\n",
            "Epoch 454/500\n",
            "1/1 [==============================] - 0s 9ms/step - loss: 0.6069 - accuracy: 0.6500\n",
            "Epoch 455/500\n",
            "1/1 [==============================] - 0s 11ms/step - loss: 0.6067 - accuracy: 0.6500\n",
            "Epoch 456/500\n",
            "1/1 [==============================] - 0s 13ms/step - loss: 0.6065 - accuracy: 0.6500\n",
            "Epoch 457/500\n",
            "1/1 [==============================] - 0s 13ms/step - loss: 0.6063 - accuracy: 0.6500\n",
            "Epoch 458/500\n",
            "1/1 [==============================] - 0s 10ms/step - loss: 0.6062 - accuracy: 0.6500\n",
            "Epoch 459/500\n",
            "1/1 [==============================] - 0s 8ms/step - loss: 0.6060 - accuracy: 0.6500\n",
            "Epoch 460/500\n",
            "1/1 [==============================] - 0s 9ms/step - loss: 0.6058 - accuracy: 0.6500\n",
            "Epoch 461/500\n",
            "1/1 [==============================] - 0s 13ms/step - loss: 0.6056 - accuracy: 0.6500\n",
            "Epoch 462/500\n",
            "1/1 [==============================] - 0s 11ms/step - loss: 0.6054 - accuracy: 0.6500\n",
            "Epoch 463/500\n",
            "1/1 [==============================] - 0s 7ms/step - loss: 0.6052 - accuracy: 0.6500\n",
            "Epoch 464/500\n",
            "1/1 [==============================] - 0s 12ms/step - loss: 0.6050 - accuracy: 0.6500\n",
            "Epoch 465/500\n",
            "1/1 [==============================] - 0s 7ms/step - loss: 0.6048 - accuracy: 0.6500\n",
            "Epoch 466/500\n",
            "1/1 [==============================] - 0s 11ms/step - loss: 0.6046 - accuracy: 0.6500\n",
            "Epoch 467/500\n",
            "1/1 [==============================] - 0s 7ms/step - loss: 0.6044 - accuracy: 0.6500\n",
            "Epoch 468/500\n",
            "1/1 [==============================] - 0s 11ms/step - loss: 0.6042 - accuracy: 0.6500\n",
            "Epoch 469/500\n",
            "1/1 [==============================] - 0s 13ms/step - loss: 0.6041 - accuracy: 0.6500\n",
            "Epoch 470/500\n",
            "1/1 [==============================] - 0s 10ms/step - loss: 0.6039 - accuracy: 0.6500\n",
            "Epoch 471/500\n",
            "1/1 [==============================] - 0s 7ms/step - loss: 0.6037 - accuracy: 0.6500\n",
            "Epoch 472/500\n",
            "1/1 [==============================] - 0s 11ms/step - loss: 0.6035 - accuracy: 0.6500\n",
            "Epoch 473/500\n",
            "1/1 [==============================] - 0s 12ms/step - loss: 0.6033 - accuracy: 0.6500\n",
            "Epoch 474/500\n",
            "1/1 [==============================] - 0s 7ms/step - loss: 0.6031 - accuracy: 0.6500\n",
            "Epoch 475/500\n",
            "1/1 [==============================] - 0s 10ms/step - loss: 0.6029 - accuracy: 0.6500\n",
            "Epoch 476/500\n",
            "1/1 [==============================] - 0s 9ms/step - loss: 0.6027 - accuracy: 0.6500\n",
            "Epoch 477/500\n",
            "1/1 [==============================] - 0s 8ms/step - loss: 0.6026 - accuracy: 0.6500\n",
            "Epoch 478/500\n",
            "1/1 [==============================] - 0s 13ms/step - loss: 0.6024 - accuracy: 0.6500\n",
            "Epoch 479/500\n",
            "1/1 [==============================] - 0s 6ms/step - loss: 0.6022 - accuracy: 0.6500\n",
            "Epoch 480/500\n",
            "1/1 [==============================] - 0s 9ms/step - loss: 0.6020 - accuracy: 0.6500\n",
            "Epoch 481/500\n",
            "1/1 [==============================] - 0s 12ms/step - loss: 0.6018 - accuracy: 0.6500\n",
            "Epoch 482/500\n",
            "1/1 [==============================] - 0s 20ms/step - loss: 0.6016 - accuracy: 0.6500\n",
            "Epoch 483/500\n",
            "1/1 [==============================] - 0s 13ms/step - loss: 0.6014 - accuracy: 0.6500\n",
            "Epoch 484/500\n",
            "1/1 [==============================] - 0s 9ms/step - loss: 0.6012 - accuracy: 0.6500\n",
            "Epoch 485/500\n",
            "1/1 [==============================] - 0s 16ms/step - loss: 0.6011 - accuracy: 0.6500\n",
            "Epoch 486/500\n",
            "1/1 [==============================] - 0s 17ms/step - loss: 0.6009 - accuracy: 0.6500\n",
            "Epoch 487/500\n",
            "1/1 [==============================] - 0s 10ms/step - loss: 0.6007 - accuracy: 0.6500\n",
            "Epoch 488/500\n",
            "1/1 [==============================] - 0s 10ms/step - loss: 0.6005 - accuracy: 0.6500\n",
            "Epoch 489/500\n",
            "1/1 [==============================] - 0s 13ms/step - loss: 0.6003 - accuracy: 0.6500\n",
            "Epoch 490/500\n",
            "1/1 [==============================] - 0s 10ms/step - loss: 0.6001 - accuracy: 0.6500\n",
            "Epoch 491/500\n",
            "1/1 [==============================] - 0s 10ms/step - loss: 0.6000 - accuracy: 0.6500\n",
            "Epoch 492/500\n",
            "1/1 [==============================] - 0s 9ms/step - loss: 0.5998 - accuracy: 0.6500\n",
            "Epoch 493/500\n",
            "1/1 [==============================] - 0s 10ms/step - loss: 0.5996 - accuracy: 0.6500\n",
            "Epoch 494/500\n",
            "1/1 [==============================] - 0s 10ms/step - loss: 0.5994 - accuracy: 0.6500\n",
            "Epoch 495/500\n",
            "1/1 [==============================] - 0s 9ms/step - loss: 0.5992 - accuracy: 0.6500\n",
            "Epoch 496/500\n",
            "1/1 [==============================] - 0s 13ms/step - loss: 0.5991 - accuracy: 0.6500\n",
            "Epoch 497/500\n",
            "1/1 [==============================] - 0s 13ms/step - loss: 0.5989 - accuracy: 0.6500\n",
            "Epoch 498/500\n",
            "1/1 [==============================] - 0s 11ms/step - loss: 0.5987 - accuracy: 0.6500\n",
            "Epoch 499/500\n",
            "1/1 [==============================] - 0s 14ms/step - loss: 0.5985 - accuracy: 0.6500\n",
            "Epoch 500/500\n",
            "1/1 [==============================] - 0s 9ms/step - loss: 0.5983 - accuracy: 0.6500\n"
          ]
        },
        {
          "output_type": "execute_result",
          "data": {
            "text/plain": [
              "<keras.callbacks.History at 0x7fcae69fa950>"
            ]
          },
          "metadata": {},
          "execution_count": 12
        }
      ]
    },
    {
      "cell_type": "code",
      "metadata": {
        "id": "YPZkwenE7GGU"
      },
      "source": [
        "y_score= model.predict(X_test)"
      ],
      "execution_count": 13,
      "outputs": []
    },
    {
      "cell_type": "code",
      "metadata": {
        "colab": {
          "base_uri": "https://localhost:8080/"
        },
        "id": "3J009suQ7IdJ",
        "outputId": "7a510955-82c9-4724-e992-8d1aaa70f4e4"
      },
      "source": [
        "y_score[:3]"
      ],
      "execution_count": 14,
      "outputs": [
        {
          "output_type": "execute_result",
          "data": {
            "text/plain": [
              "array([[0.37024114],\n",
              "       [0.17758663],\n",
              "       [0.5344411 ]], dtype=float32)"
            ]
          },
          "metadata": {},
          "execution_count": 14
        }
      ]
    },
    {
      "cell_type": "code",
      "metadata": {
        "colab": {
          "base_uri": "https://localhost:8080/"
        },
        "id": "1LkEjCuu7Ifu",
        "outputId": "335dee6e-b6f4-4431-b614-2875d85f4b6e"
      },
      "source": [
        "y_test[:3]"
      ],
      "execution_count": 15,
      "outputs": [
        {
          "output_type": "execute_result",
          "data": {
            "text/plain": [
              "array([1, 0, 0])"
            ]
          },
          "metadata": {},
          "execution_count": 15
        }
      ]
    },
    {
      "cell_type": "code",
      "metadata": {
        "colab": {
          "base_uri": "https://localhost:8080/"
        },
        "id": "ezugLg357N30",
        "outputId": "fc159ea4-aa5b-4724-d1f3-44786ee39415"
      },
      "source": [
        "from sklearn.metrics import roc_auc_score\n",
        "macro_roc_auc_ovr = roc_auc_score(y_test, y_score)\n",
        "macro_roc_auc_ovr"
      ],
      "execution_count": 16,
      "outputs": [
        {
          "output_type": "execute_result",
          "data": {
            "text/plain": [
              "0.6133333333333334"
            ]
          },
          "metadata": {},
          "execution_count": 16
        }
      ]
    },
    {
      "cell_type": "markdown",
      "metadata": {
        "id": "JGw3WriyOe5e"
      },
      "source": [
        "# MNIST con densas"
      ]
    },
    {
      "cell_type": "markdown",
      "metadata": {
        "id": "1gLrSzSvw9oh"
      },
      "source": [
        "El problema ahora es identificar los números escritos a mano."
      ]
    },
    {
      "cell_type": "code",
      "metadata": {
        "id": "nVk_a6SsxvM9",
        "outputId": "84197a28-5d94-45cc-abbd-e069069ac1c0",
        "colab": {
          "base_uri": "https://localhost:8080/"
        }
      },
      "source": [
        "from tensorflow.keras.datasets import mnist\n",
        "from tensorflow.keras.utils import to_categorical \n",
        "import numpy as np\n",
        "import matplotlib.pyplot as plt \n",
        "\n",
        "\n",
        "(X_train, y_train), (X_test, y_test) = mnist.load_data()\n",
        "\n",
        "\n"
      ],
      "execution_count": 17,
      "outputs": [
        {
          "output_type": "stream",
          "name": "stdout",
          "text": [
            "Downloading data from https://storage.googleapis.com/tensorflow/tf-keras-datasets/mnist.npz\n",
            "11493376/11490434 [==============================] - 0s 0us/step\n",
            "11501568/11490434 [==============================] - 0s 0us/step\n"
          ]
        }
      ]
    },
    {
      "cell_type": "code",
      "metadata": {
        "id": "v2uF3H5qx_H9",
        "colab": {
          "base_uri": "https://localhost:8080/",
          "height": 850
        },
        "outputId": "d9c195fd-eb4c-4723-855e-675555036841"
      },
      "source": [
        "print(\"X_train: \", X_train.shape)\n",
        "print(\"y_train: \", y_train.shape)\n",
        "print(\"X_test: \", X_test.shape)\n",
        "print(\"y_test: \", y_test.shape)\n",
        "\n",
        "print(\"Distribución de número en train:\", np.unique(y_train, return_counts=True))\n",
        "\n",
        "idx=1\n",
        "\n",
        "\n",
        "fig = plt.figure()\n",
        "plt.imshow(X_train[idx], cmap='gray', interpolation='none')\n",
        "plt.xticks([])\n",
        "plt.yticks([])\n",
        "fig\n",
        "\n",
        "\n",
        "print(f\"Número: {y_train[idx]}\")\n",
        "\n",
        "np.set_printoptions(linewidth=200)\n",
        "print(X_train[idx,:,:])\n"
      ],
      "execution_count": 18,
      "outputs": [
        {
          "output_type": "stream",
          "name": "stdout",
          "text": [
            "X_train:  (60000, 28, 28)\n",
            "y_train:  (60000,)\n",
            "X_test:  (10000, 28, 28)\n",
            "y_test:  (10000,)\n",
            "Distribución de número en train: (array([0, 1, 2, 3, 4, 5, 6, 7, 8, 9], dtype=uint8), array([5923, 6742, 5958, 6131, 5842, 5421, 5918, 6265, 5851, 5949]))\n",
            "Número: 0\n",
            "[[  0   0   0   0   0   0   0   0   0   0   0   0   0   0   0   0   0   0   0   0   0   0   0   0   0   0   0   0]\n",
            " [  0   0   0   0   0   0   0   0   0   0   0   0   0   0   0   0   0   0   0   0   0   0   0   0   0   0   0   0]\n",
            " [  0   0   0   0   0   0   0   0   0   0   0   0   0   0   0   0   0   0   0   0   0   0   0   0   0   0   0   0]\n",
            " [  0   0   0   0   0   0   0   0   0   0   0   0   0   0   0   0   0   0   0   0   0   0   0   0   0   0   0   0]\n",
            " [  0   0   0   0   0   0   0   0   0   0   0   0   0   0   0  51 159 253 159  50   0   0   0   0   0   0   0   0]\n",
            " [  0   0   0   0   0   0   0   0   0   0   0   0   0   0  48 238 252 252 252 237   0   0   0   0   0   0   0   0]\n",
            " [  0   0   0   0   0   0   0   0   0   0   0   0   0  54 227 253 252 239 233 252  57   6   0   0   0   0   0   0]\n",
            " [  0   0   0   0   0   0   0   0   0   0   0  10  60 224 252 253 252 202  84 252 253 122   0   0   0   0   0   0]\n",
            " [  0   0   0   0   0   0   0   0   0   0   0 163 252 252 252 253 252 252  96 189 253 167   0   0   0   0   0   0]\n",
            " [  0   0   0   0   0   0   0   0   0   0  51 238 253 253 190 114 253 228  47  79 255 168   0   0   0   0   0   0]\n",
            " [  0   0   0   0   0   0   0   0   0  48 238 252 252 179  12  75 121  21   0   0 253 243  50   0   0   0   0   0]\n",
            " [  0   0   0   0   0   0   0   0  38 165 253 233 208  84   0   0   0   0   0   0 253 252 165   0   0   0   0   0]\n",
            " [  0   0   0   0   0   0   0   7 178 252 240  71  19  28   0   0   0   0   0   0 253 252 195   0   0   0   0   0]\n",
            " [  0   0   0   0   0   0   0  57 252 252  63   0   0   0   0   0   0   0   0   0 253 252 195   0   0   0   0   0]\n",
            " [  0   0   0   0   0   0   0 198 253 190   0   0   0   0   0   0   0   0   0   0 255 253 196   0   0   0   0   0]\n",
            " [  0   0   0   0   0   0  76 246 252 112   0   0   0   0   0   0   0   0   0   0 253 252 148   0   0   0   0   0]\n",
            " [  0   0   0   0   0   0  85 252 230  25   0   0   0   0   0   0   0   0   7 135 253 186  12   0   0   0   0   0]\n",
            " [  0   0   0   0   0   0  85 252 223   0   0   0   0   0   0   0   0   7 131 252 225  71   0   0   0   0   0   0]\n",
            " [  0   0   0   0   0   0  85 252 145   0   0   0   0   0   0   0  48 165 252 173   0   0   0   0   0   0   0   0]\n",
            " [  0   0   0   0   0   0  86 253 225   0   0   0   0   0   0 114 238 253 162   0   0   0   0   0   0   0   0   0]\n",
            " [  0   0   0   0   0   0  85 252 249 146  48  29  85 178 225 253 223 167  56   0   0   0   0   0   0   0   0   0]\n",
            " [  0   0   0   0   0   0  85 252 252 252 229 215 252 252 252 196 130   0   0   0   0   0   0   0   0   0   0   0]\n",
            " [  0   0   0   0   0   0  28 199 252 252 253 252 252 233 145   0   0   0   0   0   0   0   0   0   0   0   0   0]\n",
            " [  0   0   0   0   0   0   0  25 128 252 253 252 141  37   0   0   0   0   0   0   0   0   0   0   0   0   0   0]\n",
            " [  0   0   0   0   0   0   0   0   0   0   0   0   0   0   0   0   0   0   0   0   0   0   0   0   0   0   0   0]\n",
            " [  0   0   0   0   0   0   0   0   0   0   0   0   0   0   0   0   0   0   0   0   0   0   0   0   0   0   0   0]\n",
            " [  0   0   0   0   0   0   0   0   0   0   0   0   0   0   0   0   0   0   0   0   0   0   0   0   0   0   0   0]\n",
            " [  0   0   0   0   0   0   0   0   0   0   0   0   0   0   0   0   0   0   0   0   0   0   0   0   0   0   0   0]]\n"
          ]
        },
        {
          "output_type": "display_data",
          "data": {
            "image/png": "[encoded data removed]",
            "text/plain": [
              "<Figure size 432x288 with 1 Axes>"
            ]
          },
          "metadata": {}
        }
      ]
    },
    {
      "cell_type": "markdown",
      "metadata": {
        "id": "M_9KJvr9Tpoc"
      },
      "source": [
        "Introducimos en la red neuronal la imagen en una dimensión"
      ]
    },
    {
      "cell_type": "code",
      "metadata": {
        "id": "Lc1efMmCSD_y",
        "colab": {
          "base_uri": "https://localhost:8080/"
        },
        "outputId": "307966d0-701f-4a65-cc9f-cbb3356f7b9d"
      },
      "source": [
        "X_train = X_train.reshape(60000, 784).astype('float32')\n",
        "X_test = X_test.reshape(10000, 784).astype('float32')\n",
        "np.set_printoptions(linewidth=200)\n",
        "print(X_train[idx,:])\n",
        "\n",
        "print(\"Train forma:\", X_train.shape)\n",
        "print(\"Test forma:\", X_test.shape)\n"
      ],
      "execution_count": 19,
      "outputs": [
        {
          "output_type": "stream",
          "name": "stdout",
          "text": [
            "[  0.   0.   0.   0.   0.   0.   0.   0.   0.   0.   0.   0.   0.   0.   0.   0.   0.   0.   0.   0.   0.   0.   0.   0.   0.   0.   0.   0.   0.   0.   0.   0.   0.   0.   0.   0.   0.   0.   0.\n",
            "   0.   0.   0.   0.   0.   0.   0.   0.   0.   0.   0.   0.   0.   0.   0.   0.   0.   0.   0.   0.   0.   0.   0.   0.   0.   0.   0.   0.   0.   0.   0.   0.   0.   0.   0.   0.   0.   0.   0.\n",
            "   0.   0.   0.   0.   0.   0.   0.   0.   0.   0.   0.   0.   0.   0.   0.   0.   0.   0.   0.   0.   0.   0.   0.   0.   0.   0.   0.   0.   0.   0.   0.   0.   0.   0.   0.   0.   0.   0.   0.\n",
            "   0.   0.   0.   0.   0.   0.   0.   0.   0.   0.  51. 159. 253. 159.  50.   0.   0.   0.   0.   0.   0.   0.   0.   0.   0.   0.   0.   0.   0.   0.   0.   0.   0.   0.   0.   0.   0.  48. 238.\n",
            " 252. 252. 252. 237.   0.   0.   0.   0.   0.   0.   0.   0.   0.   0.   0.   0.   0.   0.   0.   0.   0.   0.   0.   0.   0.  54. 227. 253. 252. 239. 233. 252.  57.   6.   0.   0.   0.   0.   0.\n",
            "   0.   0.   0.   0.   0.   0.   0.   0.   0.   0.   0.   0.  10.  60. 224. 252. 253. 252. 202.  84. 252. 253. 122.   0.   0.   0.   0.   0.   0.   0.   0.   0.   0.   0.   0.   0.   0.   0.   0.\n",
            "   0. 163. 252. 252. 252. 253. 252. 252.  96. 189. 253. 167.   0.   0.   0.   0.   0.   0.   0.   0.   0.   0.   0.   0.   0.   0.   0.   0.  51. 238. 253. 253. 190. 114. 253. 228.  47.  79. 255.\n",
            " 168.   0.   0.   0.   0.   0.   0.   0.   0.   0.   0.   0.   0.   0.   0.   0.  48. 238. 252. 252. 179.  12.  75. 121.  21.   0.   0. 253. 243.  50.   0.   0.   0.   0.   0.   0.   0.   0.   0.\n",
            "   0.   0.   0.   0.  38. 165. 253. 233. 208.  84.   0.   0.   0.   0.   0.   0. 253. 252. 165.   0.   0.   0.   0.   0.   0.   0.   0.   0.   0.   0.   0.   7. 178. 252. 240.  71.  19.  28.   0.\n",
            "   0.   0.   0.   0.   0. 253. 252. 195.   0.   0.   0.   0.   0.   0.   0.   0.   0.   0.   0.   0.  57. 252. 252.  63.   0.   0.   0.   0.   0.   0.   0.   0.   0. 253. 252. 195.   0.   0.   0.\n",
            "   0.   0.   0.   0.   0.   0.   0.   0.   0. 198. 253. 190.   0.   0.   0.   0.   0.   0.   0.   0.   0.   0. 255. 253. 196.   0.   0.   0.   0.   0.   0.   0.   0.   0.   0.   0.  76. 246. 252.\n",
            " 112.   0.   0.   0.   0.   0.   0.   0.   0.   0.   0. 253. 252. 148.   0.   0.   0.   0.   0.   0.   0.   0.   0.   0.   0.  85. 252. 230.  25.   0.   0.   0.   0.   0.   0.   0.   0.   7. 135.\n",
            " 253. 186.  12.   0.   0.   0.   0.   0.   0.   0.   0.   0.   0.   0.  85. 252. 223.   0.   0.   0.   0.   0.   0.   0.   0.   7. 131. 252. 225.  71.   0.   0.   0.   0.   0.   0.   0.   0.   0.\n",
            "   0.   0.   0.  85. 252. 145.   0.   0.   0.   0.   0.   0.   0.  48. 165. 252. 173.   0.   0.   0.   0.   0.   0.   0.   0.   0.   0.   0.   0.   0.   0.  86. 253. 225.   0.   0.   0.   0.   0.\n",
            "   0. 114. 238. 253. 162.   0.   0.   0.   0.   0.   0.   0.   0.   0.   0.   0.   0.   0.   0.   0.  85. 252. 249. 146.  48.  29.  85. 178. 225. 253. 223. 167.  56.   0.   0.   0.   0.   0.   0.\n",
            "   0.   0.   0.   0.   0.   0.   0.   0.   0.  85. 252. 252. 252. 229. 215. 252. 252. 252. 196. 130.   0.   0.   0.   0.   0.   0.   0.   0.   0.   0.   0.   0.   0.   0.   0.   0.   0.  28. 199.\n",
            " 252. 252. 253. 252. 252. 233. 145.   0.   0.   0.   0.   0.   0.   0.   0.   0.   0.   0.   0.   0.   0.   0.   0.   0.   0.   0.   0.  25. 128. 252. 253. 252. 141.  37.   0.   0.   0.   0.   0.\n",
            "   0.   0.   0.   0.   0.   0.   0.   0.   0.   0.   0.   0.   0.   0.   0.   0.   0.   0.   0.   0.   0.   0.   0.   0.   0.   0.   0.   0.   0.   0.   0.   0.   0.   0.   0.   0.   0.   0.   0.\n",
            "   0.   0.   0.   0.   0.   0.   0.   0.   0.   0.   0.   0.   0.   0.   0.   0.   0.   0.   0.   0.   0.   0.   0.   0.   0.   0.   0.   0.   0.   0.   0.   0.   0.   0.   0.   0.   0.   0.   0.\n",
            "   0.   0.   0.   0.   0.   0.   0.   0.   0.   0.   0.   0.   0.   0.   0.   0.   0.   0.   0.   0.   0.   0.   0.   0.   0.   0.   0.   0.   0.   0.   0.   0.   0.   0.   0.   0.   0.   0.   0.\n",
            "   0.   0.   0.   0.]\n",
            "Train forma: (60000, 784)\n",
            "Test forma: (10000, 784)\n"
          ]
        }
      ]
    },
    {
      "cell_type": "markdown",
      "metadata": {
        "id": "UTQNYEHrUg_a"
      },
      "source": [
        "Ayudamos a la red neuronal normalizando los datos"
      ]
    },
    {
      "cell_type": "code",
      "metadata": {
        "id": "-CxIduzVUk30"
      },
      "source": [
        "# Ayudamos normalizando los datos\n",
        "X_train /= 255\n",
        "X_test /= 255"
      ],
      "execution_count": 20,
      "outputs": []
    },
    {
      "cell_type": "markdown",
      "metadata": {
        "id": "_3qNSB-PVXCO"
      },
      "source": [
        "Como resultado tenemos una columna con números del 0 al 9, pero queremos que la red neuronal nos devuelva la probabilidad de ser cada uno de los números, por lo tanto, necesitamos 10 columnas."
      ]
    },
    {
      "cell_type": "code",
      "metadata": {
        "id": "t79wi4dsVscr",
        "colab": {
          "base_uri": "https://localhost:8080/"
        },
        "outputId": "960f01f6-16ac-4d26-ff4f-31f45b96b90b"
      },
      "source": [
        "n_classes = 10\n",
        "print(\"Forma antes del one-hot encoding: \", y_train.shape)\n",
        "Y_train = to_categorical(y_train, n_classes)\n",
        "Y_test = to_categorical(y_test, n_classes)\n",
        "print(\"Forma después del one-hot encoding: \", Y_train.shape)\n",
        "\n",
        "print(y_train[idx])\n",
        "print(Y_train[idx])\n",
        "\n",
        "print(\"\\n\")\n",
        "print(y_train[idx+1])\n",
        "print(Y_train[idx+1])"
      ],
      "execution_count": 21,
      "outputs": [
        {
          "output_type": "stream",
          "name": "stdout",
          "text": [
            "Forma antes del one-hot encoding:  (60000,)\n",
            "Forma después del one-hot encoding:  (60000, 10)\n",
            "0\n",
            "[1. 0. 0. 0. 0. 0. 0. 0. 0. 0.]\n",
            "\n",
            "\n",
            "4\n",
            "[0. 0. 0. 0. 1. 0. 0. 0. 0. 0.]\n"
          ]
        }
      ]
    },
    {
      "cell_type": "markdown",
      "metadata": {
        "id": "u01UrMoMWitn"
      },
      "source": [
        "## Construyendo el modelo\n",
        "EJERCICIO\n",
        "\n",
        "\n",
        "---\n",
        "\n",
        "\n",
        "\n",
        "---\n",
        "\n",
        "\n"
      ]
    },
    {
      "cell_type": "code",
      "metadata": {
        "id": "bFwko-VA0Uop"
      },
      "source": [
        "def pintar_9_numeros(predicted_classes, X_test, y_test,use_indices,cmap):\n",
        "  # Reducimos el tamaño para que quepan los subplots\n",
        "  plt.rcParams['figure.figsize'] = (8,8)\n",
        "  plt.style.use('dark_background')\n",
        "\n",
        "  figure_evaluation = plt.figure()\n",
        "\n",
        "  # pintar 9 graficos\n",
        "  for i, use in enumerate(use_indices[:9]):\n",
        "      plt.subplot(3,3,i+1)\n",
        "      plt.imshow(X_test[use].reshape(28,28), cmap=cmap, interpolation='none')\n",
        "      plt.title(\n",
        "        \"Predicción: {}, Verdad: {}\".format(predicted_classes[use],\n",
        "                                          y_test[use]))\n",
        "      plt.xticks([])\n",
        "      plt.yticks([])\n",
        "      \n",
        "  figure_evaluation\n",
        "  \n",
        "  \n",
        "def pintar_predicciones(mnist_model,X_test,y_test):  \n",
        "  predicted_classes = np.argmax(mnist_model.predict(X_test), axis=-1)\n",
        "  correct_indices = np.nonzero(predicted_classes == y_test)[0]\n",
        "  incorrect_indices = np.nonzero(predicted_classes != y_test)[0]\n",
        "  print()\n",
        "  print(len(correct_indices),\" bien clasificados\")\n",
        "  print(len(incorrect_indices),\" mal clasificados\")\n",
        "  \n",
        "  pintar_9_numeros(predicted_classes, X_test, y_test,correct_indices,'Greens')\n",
        "  pintar_9_numeros(predicted_classes, X_test, y_test,incorrect_indices,'Oranges')\n",
        "  \n"
      ],
      "execution_count": 29,
      "outputs": []
    },
    {
      "cell_type": "markdown",
      "metadata": {
        "id": "KbyjmZ5cdpAw"
      },
      "source": [
        "# MNIST convolutional"
      ]
    },
    {
      "cell_type": "markdown",
      "metadata": {
        "id": "LgZiqBtqi5ja"
      },
      "source": [
        "## Construyendo el modelo\n",
        "\n",
        "Preparamos los datos"
      ]
    },
    {
      "cell_type": "code",
      "metadata": {
        "id": "hSKyJ-NvhnxJ",
        "colab": {
          "base_uri": "https://localhost:8080/"
        },
        "outputId": "d9b9ba59-1910-4a8c-a946-6021d60ea0d4"
      },
      "source": [
        "from __future__ import print_function\n",
        "import tensorflow.keras\n",
        "from tensorflow.keras.datasets import mnist\n",
        "from tensorflow.keras.models import Sequential\n",
        "from tensorflow.keras.layers import Dense, Dropout, Flatten\n",
        "from tensorflow.keras.layers import Conv2D, MaxPooling2D\n",
        "from tensorflow.keras import backend as K\n",
        "\n",
        "batch_size = 128\n",
        "num_classes = 10\n",
        "epochs = 12\n",
        "\n",
        "\n",
        "# Cargamos los datos\n",
        "(x_train, y_train), (x_test, y_test) = mnist.load_data()\n",
        "\n",
        "# Dimensiones de la imagen\n",
        "img_rows, img_cols = 28, 28\n",
        "\n",
        "# Las imágenes se pueden cargar con el color primero o con el color al final\n",
        "if K.image_data_format() == 'channels_first':\n",
        "    x_train = x_train.reshape(x_train.shape[0], 1, img_rows, img_cols)\n",
        "    x_test = x_test.reshape(x_test.shape[0], 1, img_rows, img_cols)\n",
        "    input_shape = (1, img_rows, img_cols)\n",
        "else:\n",
        "    x_train = x_train.reshape(x_train.shape[0], img_rows, img_cols, 1)\n",
        "    x_test = x_test.reshape(x_test.shape[0], img_rows, img_cols, 1)\n",
        "    input_shape = (img_rows, img_cols, 1)\n",
        "\n",
        "    \n",
        "#Convertimos a float y ayudamos normalizando los valores    \n",
        "x_train = x_train.astype('float32')\n",
        "x_test = x_test.astype('float32')\n",
        "x_train /= 255\n",
        "x_test /= 255\n",
        "print('x_train shape:', x_train.shape)\n",
        "print(x_train.shape[0], 'train samples')\n",
        "print(x_test.shape[0], 'test samples')"
      ],
      "execution_count": 23,
      "outputs": [
        {
          "output_type": "stream",
          "name": "stdout",
          "text": [
            "x_train shape: (60000, 28, 28, 1)\n",
            "60000 train samples\n",
            "10000 test samples\n"
          ]
        }
      ]
    },
    {
      "cell_type": "markdown",
      "metadata": {
        "id": "9VXgPQkEiruO"
      },
      "source": [
        "Convertimos los valores en one hot encoder"
      ]
    },
    {
      "cell_type": "code",
      "metadata": {
        "id": "1WTtznCmiqPc",
        "colab": {
          "base_uri": "https://localhost:8080/"
        },
        "outputId": "b7449272-1d43-4b5d-ea47-4bd4406b0463"
      },
      "source": [
        "\n",
        "\n",
        "Y_train = tensorflow.keras.utils.to_categorical(y_train, num_classes)\n",
        "Y_test = tensorflow.keras.utils.to_categorical(y_test, num_classes)\n",
        "\n",
        "print(\"Valor inicial: \", y_train[0])\n",
        "print(\"Valor tratado: \", Y_train[0])\n"
      ],
      "execution_count": 24,
      "outputs": [
        {
          "output_type": "stream",
          "name": "stdout",
          "text": [
            "Valor inicial:  5\n",
            "Valor tratado:  [0. 0. 0. 0. 0. 1. 0. 0. 0. 0.]\n"
          ]
        }
      ]
    },
    {
      "cell_type": "markdown",
      "metadata": {
        "id": "n7xbZ3uOjTRj"
      },
      "source": [
        "### Definimos la red convolucional\n",
        "Tamaños de entrada\n",
        "$$\n",
        "\\tfrac{\n",
        "\\underset{imagen}{28\n",
        "\\overset{28}{\n",
        "  \\begin{bmatrix}\n",
        "  . & . & . \\\\\n",
        "  . & . & . \\\\\n",
        "  . & .  & .\n",
        "  \\end{bmatrix} \n",
        "}}\n",
        "\\times\n",
        "\\underset{filter \\times 32}{\n",
        "3\\overset{3}{\n",
        "  \\begin{bmatrix}\n",
        "  . \n",
        "  \\end{bmatrix} \n",
        "}}\n",
        "}{Conv2D} \n",
        "---->\n",
        "\\tfrac{\n",
        "26\n",
        "\\overset{26}{\n",
        "  \\begin{bmatrix}\n",
        "  . & . & . \\\\\n",
        "  . & . & . \\\\\n",
        "  . & .  & .\n",
        "  \\end{bmatrix} \n",
        "}\n",
        "\\times\n",
        "\\underset{filter \\times 64}{\n",
        "3\\overset{3}{\n",
        "  \\begin{bmatrix}\n",
        "  . \n",
        "  \\end{bmatrix} \n",
        "}}\n",
        "}{Conv2D} \n",
        "---->\n",
        "\\tfrac{\n",
        "24\n",
        "\\overset{24}{\n",
        "  \\begin{bmatrix}\n",
        "  . & . & . \\\\\n",
        "  . & . & . \\\\\n",
        "  . & .  & .\n",
        "  \\end{bmatrix} \n",
        "}\n",
        "\\times\n",
        "\\underset{filter}{\n",
        "2\\overset{2}{\n",
        "  \\begin{bmatrix}\n",
        "  . \n",
        "  \\end{bmatrix} \n",
        "}}\n",
        "}{Max}\n",
        "---->\n",
        "\\tfrac{\n",
        "12\n",
        "\\overset{12}{\n",
        "  \\begin{bmatrix}\n",
        "  . & . & . \\\\\n",
        "  . & . & . \\\\\n",
        "  . & .  & .\n",
        "  \\end{bmatrix} \n",
        "}\n",
        "}{Dropout_{regularización}} \n",
        " ---->\\tfrac{\n",
        "12\n",
        "\\overset{12}{\n",
        "  \\begin{bmatrix}\n",
        "  . & . & . \\\\\n",
        "  . & . & . \\\\\n",
        "  . & .  & .\n",
        "  \\end{bmatrix} \n",
        "}\n",
        "}{Flatten}\n",
        " ---->\\tfrac{\n",
        "\\overset{9216=12\\times 12\\times 64}{\n",
        "  \\begin{bmatrix}\n",
        "  . & . & . \n",
        "  \\end{bmatrix} \n",
        "}\\times(128)\n",
        "}{Densa}\n",
        " ---->\\tfrac{\n",
        "\\overset{128}{\n",
        "  \\begin{bmatrix}\n",
        "  . & . & . \n",
        "  \\end{bmatrix} \n",
        "}\n",
        "}{Dropout}\n",
        " ---->\\tfrac{\n",
        "\\overset{128}{\n",
        "  \\begin{bmatrix}\n",
        "  . & . & . \n",
        "  \\end{bmatrix} \n",
        "}\n",
        "}{Salida}---->\n",
        "\\overset{10}{\n",
        "  \\begin{bmatrix}\n",
        "  . & . & . \n",
        "  \\end{bmatrix} \n",
        "}\n",
        "$$\n",
        "\n"
      ]
    },
    {
      "cell_type": "code",
      "metadata": {
        "id": "yuJviUxVd0Zf",
        "colab": {
          "base_uri": "https://localhost:8080/"
        },
        "outputId": "43dbf8fc-d7d9-4c55-8ebc-97c0d29931ae"
      },
      "source": [
        "model = Sequential()\n",
        "model.add(Conv2D(filters=32, kernel_size=(3, 3),\n",
        "                 activation='relu',\n",
        "                 input_shape=input_shape))\n",
        "model.add(Conv2D(64, (3, 3), activation='relu'))\n",
        "model.add(MaxPooling2D(pool_size=(2, 2)))\n",
        "model.add(Dropout(0.25))\n",
        "model.add(Flatten())\n",
        "model.add(Dense(units=128, activation='relu'))\n",
        "model.add(Dropout(0.5))\n",
        "model.add(Dense(num_classes, activation='softmax'))\n",
        "\n",
        "print(model.summary())"
      ],
      "execution_count": 25,
      "outputs": [
        {
          "output_type": "stream",
          "name": "stdout",
          "text": [
            "Model: \"sequential_2\"\n",
            "_________________________________________________________________\n",
            " Layer (type)                Output Shape              Param #   \n",
            "=================================================================\n",
            " conv2d (Conv2D)             (None, 26, 26, 32)        320       \n",
            "                                                                 \n",
            " conv2d_1 (Conv2D)           (None, 24, 24, 64)        18496     \n",
            "                                                                 \n",
            " max_pooling2d (MaxPooling2D  (None, 12, 12, 64)       0         \n",
            " )                                                               \n",
            "                                                                 \n",
            " dropout (Dropout)           (None, 12, 12, 64)        0         \n",
            "                                                                 \n",
            " flatten (Flatten)           (None, 9216)              0         \n",
            "                                                                 \n",
            " dense_3 (Dense)             (None, 128)               1179776   \n",
            "                                                                 \n",
            " dropout_1 (Dropout)         (None, 128)               0         \n",
            "                                                                 \n",
            " dense_4 (Dense)             (None, 10)                1290      \n",
            "                                                                 \n",
            "=================================================================\n",
            "Total params: 1,199,882\n",
            "Trainable params: 1,199,882\n",
            "Non-trainable params: 0\n",
            "_________________________________________________________________\n",
            "None\n"
          ]
        }
      ]
    },
    {
      "cell_type": "code",
      "metadata": {
        "id": "tiuvT25Pjm0I",
        "colab": {
          "base_uri": "https://localhost:8080/"
        },
        "outputId": "9f49f789-d931-4b2b-b56e-fe4627f54227"
      },
      "source": [
        "model.compile(loss=tensorflow.keras.losses.categorical_crossentropy,\n",
        "              optimizer=tensorflow.keras.optimizers.Adadelta(),\n",
        "              metrics=['accuracy'])\n",
        "\n",
        "model.fit(x_train, Y_train,\n",
        "          batch_size=batch_size,\n",
        "          epochs=epochs,\n",
        "          verbose=1,\n",
        "          validation_data=(x_test, Y_test))\n",
        "score = model.evaluate(x_test, Y_test, verbose=0)\n",
        "print('Test loss:', score[0])\n",
        "print('Test accuracy:', score[1])"
      ],
      "execution_count": 26,
      "outputs": [
        {
          "output_type": "stream",
          "name": "stdout",
          "text": [
            "Epoch 1/12\n",
            "469/469 [==============================] - 18s 21ms/step - loss: 2.2797 - accuracy: 0.1452 - val_loss: 2.2463 - val_accuracy: 0.3120\n",
            "Epoch 2/12\n",
            "469/469 [==============================] - 9s 20ms/step - loss: 2.2263 - accuracy: 0.2514 - val_loss: 2.1803 - val_accuracy: 0.5460\n",
            "Epoch 3/12\n",
            "469/469 [==============================] - 10s 20ms/step - loss: 2.1564 - accuracy: 0.3582 - val_loss: 2.0898 - val_accuracy: 0.6647\n",
            "Epoch 4/12\n",
            "469/469 [==============================] - 10s 20ms/step - loss: 2.0616 - accuracy: 0.4370 - val_loss: 1.9666 - val_accuracy: 0.7143\n",
            "Epoch 5/12\n",
            "469/469 [==============================] - 10s 20ms/step - loss: 1.9353 - accuracy: 0.5023 - val_loss: 1.8064 - val_accuracy: 0.7390\n",
            "Epoch 6/12\n",
            "469/469 [==============================] - 10s 21ms/step - loss: 1.7842 - accuracy: 0.5466 - val_loss: 1.6153 - val_accuracy: 0.7556\n",
            "Epoch 7/12\n",
            "469/469 [==============================] - 10s 20ms/step - loss: 1.6131 - accuracy: 0.5857 - val_loss: 1.4087 - val_accuracy: 0.7720\n",
            "Epoch 8/12\n",
            "469/469 [==============================] - 10s 20ms/step - loss: 1.4463 - accuracy: 0.6137 - val_loss: 1.2112 - val_accuracy: 0.7899\n",
            "Epoch 9/12\n",
            "469/469 [==============================] - 10s 21ms/step - loss: 1.2915 - accuracy: 0.6422 - val_loss: 1.0434 - val_accuracy: 0.8047\n",
            "Epoch 10/12\n",
            "469/469 [==============================] - 10s 20ms/step - loss: 1.1708 - accuracy: 0.6666 - val_loss: 0.9122 - val_accuracy: 0.8164\n",
            "Epoch 11/12\n",
            "469/469 [==============================] - 10s 21ms/step - loss: 1.0742 - accuracy: 0.6855 - val_loss: 0.8112 - val_accuracy: 0.8284\n",
            "Epoch 12/12\n",
            "469/469 [==============================] - 10s 21ms/step - loss: 0.9968 - accuracy: 0.7034 - val_loss: 0.7348 - val_accuracy: 0.8381\n",
            "Test loss: 0.7347964644432068\n",
            "Test accuracy: 0.838100016117096\n"
          ]
        }
      ]
    },
    {
      "cell_type": "code",
      "metadata": {
        "id": "_f1HiNvZgu7C",
        "colab": {
          "base_uri": "https://localhost:8080/",
          "height": 1000
        },
        "outputId": "12e5372c-724f-4699-b7d0-96b2a302fdc2"
      },
      "source": [
        "pintar_predicciones(model,x_test, y_test)"
      ],
      "execution_count": 30,
      "outputs": [
        {
          "output_type": "stream",
          "name": "stdout",
          "text": [
            "\n",
            "8381  bien clasificados\n",
            "1619  mal clasificados\n"
          ]
        },
        {
          "output_type": "display_data",
          "data": {
            "image/png": "[encoded data removed]",
            "text/plain": [
              "<Figure size 576x576 with 9 Axes>"
            ]
          },
          "metadata": {}
        },
        {
          "output_type": "display_data",
          "data": {
            "image/png": "[encoded data removed]",
            "text/plain": [
              "<Figure size 576x576 with 9 Axes>"
            ]
          },
          "metadata": {}
        }
      ]
    }
  ]
}